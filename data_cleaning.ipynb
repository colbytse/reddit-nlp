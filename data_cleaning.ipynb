{
 "cells": [
  {
   "cell_type": "markdown",
   "id": "07b6411f-f58c-400e-a99b-15963dcc6d27",
   "metadata": {},
   "source": [
    "## Imports"
   ]
  },
  {
   "cell_type": "code",
   "execution_count": 3,
   "id": "683152ce-d93a-4f12-bacb-6c397669270d",
   "metadata": {
    "execution": {
     "iopub.execute_input": "2022-12-16T16:58:11.039179Z",
     "iopub.status.busy": "2022-12-16T16:58:11.038284Z",
     "iopub.status.idle": "2022-12-16T16:58:11.927020Z",
     "shell.execute_reply": "2022-12-16T16:58:11.926695Z",
     "shell.execute_reply.started": "2022-12-16T16:58:11.039101Z"
    },
    "tags": []
   },
   "outputs": [],
   "source": [
    "import pandas as pd\n",
    "import time\n",
    "import requests\n",
    "import numpy as np\n",
    "import re"
   ]
  },
  {
   "cell_type": "markdown",
   "id": "00cd5a52-91a4-44c6-b466-ad0c929743d6",
   "metadata": {},
   "source": [
    "# Quick links\n",
    "\n",
    "- [Preliminary look](#Preliminary-look)\n",
    "- [Data Cleaning](#Data-Cleaning)\n",
    "- [Exports](#Exports)"
   ]
  },
  {
   "cell_type": "markdown",
   "id": "71275bff-b680-4268-8b20-65614a8234b6",
   "metadata": {
    "tags": []
   },
   "source": [
    "#### PushShift API request"
   ]
  },
  {
   "cell_type": "markdown",
   "id": "836a8849-cbd9-46d7-92d5-672039ccb9a5",
   "metadata": {},
   "source": [
    "Set URL and check status"
   ]
  },
  {
   "cell_type": "code",
   "execution_count": 4,
   "id": "fcc66912-23ef-4c6a-a665-291dfca69d02",
   "metadata": {
    "execution": {
     "iopub.execute_input": "2022-12-16T16:58:15.168571Z",
     "iopub.status.busy": "2022-12-16T16:58:15.167414Z",
     "iopub.status.idle": "2022-12-16T16:58:17.077625Z",
     "shell.execute_reply": "2022-12-16T16:58:17.076498Z",
     "shell.execute_reply.started": "2022-12-16T16:58:15.168496Z"
    },
    "tags": []
   },
   "outputs": [
    {
     "data": {
      "text/plain": [
       "200"
      ]
     },
     "execution_count": 4,
     "metadata": {},
     "output_type": "execute_result"
    }
   ],
   "source": [
    "url = 'https://api.pushshift.io/reddit/search/submission?subreddit=AmItheAsshole'\n",
    "\n",
    "res = requests.get(url)\n",
    "\n",
    "res.status_code"
   ]
  },
  {
   "cell_type": "markdown",
   "id": "266f5785-4732-49d1-b0f8-606c77732cdc",
   "metadata": {},
   "source": [
    "Data extraction"
   ]
  },
  {
   "cell_type": "code",
   "execution_count": 3,
   "id": "f9e4fda8-224c-4b90-9338-00229e36f95c",
   "metadata": {
    "execution": {
     "iopub.execute_input": "2022-12-15T00:29:55.119609Z",
     "iopub.status.busy": "2022-12-15T00:29:55.119052Z",
     "iopub.status.idle": "2022-12-15T00:29:55.123425Z",
     "shell.execute_reply": "2022-12-15T00:29:55.122377Z",
     "shell.execute_reply.started": "2022-12-15T00:29:55.119580Z"
    },
    "tags": []
   },
   "outputs": [],
   "source": [
    "# res.json()['data'] # sanity check"
   ]
  },
  {
   "cell_type": "code",
   "execution_count": 4,
   "id": "73f4d037-edbb-404c-91e1-b017092927e2",
   "metadata": {
    "execution": {
     "iopub.execute_input": "2022-12-15T00:29:55.125119Z",
     "iopub.status.busy": "2022-12-15T00:29:55.124877Z",
     "iopub.status.idle": "2022-12-15T00:29:55.134571Z",
     "shell.execute_reply": "2022-12-15T00:29:55.134071Z",
     "shell.execute_reply.started": "2022-12-15T00:29:55.125091Z"
    }
   },
   "outputs": [],
   "source": [
    "df = pd.DataFrame(res.json()['data'])"
   ]
  },
  {
   "cell_type": "code",
   "execution_count": 5,
   "id": "3e4db18c-63cc-4d05-b1ee-b8e9de0ee7eb",
   "metadata": {
    "execution": {
     "iopub.execute_input": "2022-12-15T00:29:55.135456Z",
     "iopub.status.busy": "2022-12-15T00:29:55.135329Z",
     "iopub.status.idle": "2022-12-15T00:29:55.139479Z",
     "shell.execute_reply": "2022-12-15T00:29:55.139091Z",
     "shell.execute_reply.started": "2022-12-15T00:29:55.135440Z"
    }
   },
   "outputs": [
    {
     "data": {
      "text/plain": [
       "True"
      ]
     },
     "execution_count": 5,
     "metadata": {},
     "output_type": "execute_result"
    }
   ],
   "source": [
    "# check to see if request has only unique posts\n",
    "df['id'].nunique() == len(df)"
   ]
  },
  {
   "cell_type": "markdown",
   "id": "5838ffae-d6ee-4ea3-8ebc-c531ed74eab1",
   "metadata": {},
   "source": [
    "### Data collection process, **do not execute unless** trying to get more data."
   ]
  },
  {
   "cell_type": "code",
   "execution_count": 1,
   "id": "65bb92ef-aaef-4ed9-b077-f4dfa3e730aa",
   "metadata": {
    "execution": {
     "iopub.execute_input": "2022-12-16T16:57:50.776279Z",
     "iopub.status.busy": "2022-12-16T16:57:50.775234Z",
     "iopub.status.idle": "2022-12-16T16:57:50.800193Z",
     "shell.execute_reply": "2022-12-16T16:57:50.799828Z",
     "shell.execute_reply.started": "2022-12-16T16:57:50.775966Z"
    },
    "tags": []
   },
   "outputs": [],
   "source": [
    "# function provided by Devin Fay in lieu of Shift API changes\n",
    "def get_reddit_submissions(subreddits: list, max_num: int):\n",
    "    base_url = \"https://api.pushshift.io/reddit/search/submission\"\n",
    "    all_posts = []\n",
    "    \n",
    "    for subreddit in subreddits:\n",
    "        params = {\n",
    "            'subreddit': subreddit,\n",
    "            'size': 1000 #doesn't appear to be working\n",
    "        }\n",
    "        \n",
    "        count = 0 #keep track of posts/subreddit\n",
    "        \n",
    "        while count < max_num:\n",
    "            res = requests.get(base_url, params)\n",
    "            \n",
    "            if res.status_code == 200:\n",
    "                posts = pd.DataFrame(res.json()['data'])\n",
    "                count += len(posts)\n",
    "                \n",
    "                all_posts.append(posts)\n",
    "                \n",
    "                if len(posts) == 0: \n",
    "                    break #break loop if request successful but nothing retrieved\n",
    "                    \n",
    "                #get sequential posts from most recent to least    \n",
    "                params['before'] = posts['created_utc'].min()\n",
    "            else:\n",
    "                print(f'status: {res.status_code}')\n",
    "        print(f'scraped from {subreddit}: {count}')\n",
    "    \n",
    "    return pd.concat(all_posts)"
   ]
  },
  {
   "cell_type": "markdown",
   "id": "35826f3b-fda4-4875-962a-3f25c3ccc1fb",
   "metadata": {},
   "source": [
    "## Preliminary look"
   ]
  },
  {
   "cell_type": "code",
   "execution_count": 7,
   "id": "7171d6cb-41f3-4a0f-98d1-944687269548",
   "metadata": {
    "execution": {
     "iopub.execute_input": "2022-12-15T00:29:55.146649Z",
     "iopub.status.busy": "2022-12-15T00:29:55.146499Z",
     "iopub.status.idle": "2022-12-15T00:32:19.019129Z",
     "shell.execute_reply": "2022-12-15T00:32:19.018750Z",
     "shell.execute_reply.started": "2022-12-15T00:29:55.146632Z"
    },
    "tags": []
   },
   "outputs": [
    {
     "name": "stdout",
     "output_type": "stream",
     "text": [
      "scraped from AmItheAsshole: 30995\n",
      "scraped from TrueOffMyChest: 17537\n"
     ]
    }
   ],
   "source": [
    "df = get_reddit_submissions(['AmItheAsshole', 'TrueOffMyChest'], 30_000)"
   ]
  },
  {
   "cell_type": "code",
   "execution_count": 8,
   "id": "3af0bbc1-3508-4391-935d-c21e5e1f98de",
   "metadata": {
    "execution": {
     "iopub.execute_input": "2022-12-15T00:32:19.019841Z",
     "iopub.status.busy": "2022-12-15T00:32:19.019756Z",
     "iopub.status.idle": "2022-12-15T00:32:19.021612Z",
     "shell.execute_reply": "2022-12-15T00:32:19.021280Z",
     "shell.execute_reply.started": "2022-12-15T00:32:19.019828Z"
    },
    "tags": []
   },
   "outputs": [],
   "source": [
    "# df.columns # sanity check"
   ]
  },
  {
   "cell_type": "code",
   "execution_count": 9,
   "id": "6c156ba0-ebe5-4826-8474-ac4e0b325bb0",
   "metadata": {
    "execution": {
     "iopub.execute_input": "2022-12-15T00:32:19.022152Z",
     "iopub.status.busy": "2022-12-15T00:32:19.022069Z",
     "iopub.status.idle": "2022-12-15T00:32:20.418564Z",
     "shell.execute_reply": "2022-12-15T00:32:20.418230Z",
     "shell.execute_reply.started": "2022-12-15T00:32:19.022142Z"
    },
    "tags": []
   },
   "outputs": [],
   "source": [
    "df.to_csv('./data/subreddits.csv', index=False)"
   ]
  },
  {
   "cell_type": "code",
   "execution_count": 10,
   "id": "723c7843-8a80-4132-b83d-e6d3e961d47b",
   "metadata": {
    "execution": {
     "iopub.execute_input": "2022-12-15T00:32:20.419105Z",
     "iopub.status.busy": "2022-12-15T00:32:20.419031Z",
     "iopub.status.idle": "2022-12-15T00:32:20.421568Z",
     "shell.execute_reply": "2022-12-15T00:32:20.421300Z",
     "shell.execute_reply.started": "2022-12-15T00:32:20.419096Z"
    },
    "tags": []
   },
   "outputs": [
    {
     "data": {
      "text/plain": [
       "(48532, 94)"
      ]
     },
     "execution_count": 10,
     "metadata": {},
     "output_type": "execute_result"
    }
   ],
   "source": [
    "df.shape # sanity check"
   ]
  },
  {
   "cell_type": "code",
   "execution_count": 3,
   "id": "c8f21bb8-ac98-4315-98a4-c845b53b51d4",
   "metadata": {
    "execution": {
     "iopub.execute_input": "2022-12-15T00:40:26.584013Z",
     "iopub.status.busy": "2022-12-15T00:40:26.583485Z",
     "iopub.status.idle": "2022-12-15T00:40:27.673024Z",
     "shell.execute_reply": "2022-12-15T00:40:27.672692Z",
     "shell.execute_reply.started": "2022-12-15T00:40:26.583972Z"
    },
    "tags": []
   },
   "outputs": [
    {
     "name": "stderr",
     "output_type": "stream",
     "text": [
      "/var/folders/2f/m4z0nfhn5px0p2mdppmmrlxr0000gn/T/ipykernel_15535/2124828447.py:1: DtypeWarning: Columns (9,16,21,34,45,58,61,93) have mixed types. Specify dtype option on import or set low_memory=False.\n",
      "  subreddits = pd.read_csv('./data/subreddits.csv')\n"
     ]
    }
   ],
   "source": [
    "subreddits = pd.read_csv('./data/subreddits.csv')"
   ]
  },
  {
   "cell_type": "code",
   "execution_count": 4,
   "id": "cf16dd7a-f91e-4875-b219-1890b4ccb910",
   "metadata": {
    "execution": {
     "iopub.execute_input": "2022-12-15T00:40:28.883583Z",
     "iopub.status.busy": "2022-12-15T00:40:28.882529Z",
     "iopub.status.idle": "2022-12-15T00:40:28.904885Z",
     "shell.execute_reply": "2022-12-15T00:40:28.904451Z",
     "shell.execute_reply.started": "2022-12-15T00:40:28.883499Z"
    },
    "tags": []
   },
   "outputs": [
    {
     "data": {
      "text/plain": [
       "['subreddit',\n",
       " 'selftext',\n",
       " 'author_fullname',\n",
       " 'gilded',\n",
       " 'title',\n",
       " 'link_flair_richtext',\n",
       " 'subreddit_name_prefixed',\n",
       " 'hidden',\n",
       " 'pwls',\n",
       " 'link_flair_css_class',\n",
       " 'thumbnail_height',\n",
       " 'top_awarded_type',\n",
       " 'hide_score',\n",
       " 'quarantine',\n",
       " 'link_flair_text_color',\n",
       " 'upvote_ratio',\n",
       " 'author_flair_background_color',\n",
       " 'subreddit_type',\n",
       " 'total_awards_received',\n",
       " 'media_embed',\n",
       " 'thumbnail_width',\n",
       " 'author_flair_template_id',\n",
       " 'is_original_content',\n",
       " 'secure_media',\n",
       " 'is_reddit_media_domain',\n",
       " 'is_meta',\n",
       " 'category',\n",
       " 'secure_media_embed',\n",
       " 'link_flair_text',\n",
       " 'score',\n",
       " 'is_created_from_ads_ui',\n",
       " 'author_premium',\n",
       " 'thumbnail',\n",
       " 'edited',\n",
       " 'author_flair_css_class',\n",
       " 'author_flair_richtext',\n",
       " 'gildings',\n",
       " 'content_categories',\n",
       " 'is_self',\n",
       " 'link_flair_type',\n",
       " 'wls',\n",
       " 'removed_by_category',\n",
       " 'author_flair_type',\n",
       " 'domain',\n",
       " 'allow_live_comments',\n",
       " 'suggested_sort',\n",
       " 'view_count',\n",
       " 'archived',\n",
       " 'no_follow',\n",
       " 'is_crosspostable',\n",
       " 'pinned',\n",
       " 'over_18',\n",
       " 'all_awardings',\n",
       " 'awarders',\n",
       " 'media_only',\n",
       " 'can_gild',\n",
       " 'spoiler',\n",
       " 'locked',\n",
       " 'author_flair_text',\n",
       " 'treatment_tags',\n",
       " 'removed_by',\n",
       " 'distinguished',\n",
       " 'subreddit_id',\n",
       " 'link_flair_background_color',\n",
       " 'id',\n",
       " 'is_robot_indexable',\n",
       " 'author',\n",
       " 'discussion_type',\n",
       " 'num_comments',\n",
       " 'send_replies',\n",
       " 'whitelist_status',\n",
       " 'contest_mode',\n",
       " 'author_patreon_flair',\n",
       " 'author_flair_text_color',\n",
       " 'permalink',\n",
       " 'parent_whitelist_status',\n",
       " 'stickied',\n",
       " 'url',\n",
       " 'subreddit_subscribers',\n",
       " 'created_utc',\n",
       " 'num_crossposts',\n",
       " 'media',\n",
       " 'is_video',\n",
       " 'retrieved_utc',\n",
       " 'updated_utc',\n",
       " 'utc_datetime_str',\n",
       " 'author_cakeday',\n",
       " 'post_hint',\n",
       " 'preview',\n",
       " 'link_flair_template_id',\n",
       " 'edited_on',\n",
       " 'event_start',\n",
       " 'event_end',\n",
       " 'event_is_live']"
      ]
     },
     "execution_count": 4,
     "metadata": {},
     "output_type": "execute_result"
    }
   ],
   "source": [
    "subreddits.columns.to_list()"
   ]
  },
  {
   "cell_type": "code",
   "execution_count": 5,
   "id": "fcae8885-16d9-4cfc-8761-38ef53f7fd75",
   "metadata": {
    "execution": {
     "iopub.execute_input": "2022-12-15T00:40:32.087718Z",
     "iopub.status.busy": "2022-12-15T00:40:32.087302Z",
     "iopub.status.idle": "2022-12-15T00:40:32.102951Z",
     "shell.execute_reply": "2022-12-15T00:40:32.102550Z",
     "shell.execute_reply.started": "2022-12-15T00:40:32.087677Z"
    },
    "tags": []
   },
   "outputs": [
    {
     "data": {
      "text/html": [
       "<div>\n",
       "<style scoped>\n",
       "    .dataframe tbody tr th:only-of-type {\n",
       "        vertical-align: middle;\n",
       "    }\n",
       "\n",
       "    .dataframe tbody tr th {\n",
       "        vertical-align: top;\n",
       "    }\n",
       "\n",
       "    .dataframe thead th {\n",
       "        text-align: right;\n",
       "    }\n",
       "</style>\n",
       "<table border=\"1\" class=\"dataframe\">\n",
       "  <thead>\n",
       "    <tr style=\"text-align: right;\">\n",
       "      <th></th>\n",
       "      <th>subreddit</th>\n",
       "      <th>selftext</th>\n",
       "      <th>author_fullname</th>\n",
       "      <th>gilded</th>\n",
       "      <th>title</th>\n",
       "      <th>link_flair_richtext</th>\n",
       "      <th>subreddit_name_prefixed</th>\n",
       "      <th>hidden</th>\n",
       "      <th>pwls</th>\n",
       "      <th>link_flair_css_class</th>\n",
       "      <th>...</th>\n",
       "      <th>updated_utc</th>\n",
       "      <th>utc_datetime_str</th>\n",
       "      <th>author_cakeday</th>\n",
       "      <th>post_hint</th>\n",
       "      <th>preview</th>\n",
       "      <th>link_flair_template_id</th>\n",
       "      <th>edited_on</th>\n",
       "      <th>event_start</th>\n",
       "      <th>event_end</th>\n",
       "      <th>event_is_live</th>\n",
       "    </tr>\n",
       "  </thead>\n",
       "  <tbody>\n",
       "    <tr>\n",
       "      <th>0</th>\n",
       "      <td>AmItheAsshole</td>\n",
       "      <td>TA\\n\\nLong story short my mom lend my ski Jack...</td>\n",
       "      <td>t2_tyyt86d3</td>\n",
       "      <td>0</td>\n",
       "      <td>AITA for being upset bc my mom lend my ski gea...</td>\n",
       "      <td>[]</td>\n",
       "      <td>r/AmItheAsshole</td>\n",
       "      <td>False</td>\n",
       "      <td>6</td>\n",
       "      <td>NaN</td>\n",
       "      <td>...</td>\n",
       "      <td>1671064113</td>\n",
       "      <td>2022-12-15 00:28:15</td>\n",
       "      <td>NaN</td>\n",
       "      <td>NaN</td>\n",
       "      <td>NaN</td>\n",
       "      <td>NaN</td>\n",
       "      <td>NaN</td>\n",
       "      <td>NaN</td>\n",
       "      <td>NaN</td>\n",
       "      <td>NaN</td>\n",
       "    </tr>\n",
       "    <tr>\n",
       "      <th>1</th>\n",
       "      <td>AmItheAsshole</td>\n",
       "      <td>Rachel, Katy and I were part of a big friend g...</td>\n",
       "      <td>t2_n2jeq1b6</td>\n",
       "      <td>0</td>\n",
       "      <td>AITA for not inviting my friend to a concert s...</td>\n",
       "      <td>[]</td>\n",
       "      <td>r/AmItheAsshole</td>\n",
       "      <td>False</td>\n",
       "      <td>6</td>\n",
       "      <td>NaN</td>\n",
       "      <td>...</td>\n",
       "      <td>1671064049</td>\n",
       "      <td>2022-12-15 00:27:12</td>\n",
       "      <td>NaN</td>\n",
       "      <td>NaN</td>\n",
       "      <td>NaN</td>\n",
       "      <td>NaN</td>\n",
       "      <td>NaN</td>\n",
       "      <td>NaN</td>\n",
       "      <td>NaN</td>\n",
       "      <td>NaN</td>\n",
       "    </tr>\n",
       "    <tr>\n",
       "      <th>2</th>\n",
       "      <td>AmItheAsshole</td>\n",
       "      <td>So me 17 and my mom 36 are in a fight and I ne...</td>\n",
       "      <td>t2_q8j6qqlx</td>\n",
       "      <td>0</td>\n",
       "      <td>AITA for telling my mom I won’t talk to her ag...</td>\n",
       "      <td>[]</td>\n",
       "      <td>r/AmItheAsshole</td>\n",
       "      <td>False</td>\n",
       "      <td>6</td>\n",
       "      <td>NaN</td>\n",
       "      <td>...</td>\n",
       "      <td>1671064041</td>\n",
       "      <td>2022-12-15 00:27:05</td>\n",
       "      <td>NaN</td>\n",
       "      <td>NaN</td>\n",
       "      <td>NaN</td>\n",
       "      <td>NaN</td>\n",
       "      <td>NaN</td>\n",
       "      <td>NaN</td>\n",
       "      <td>NaN</td>\n",
       "      <td>NaN</td>\n",
       "    </tr>\n",
       "    <tr>\n",
       "      <th>3</th>\n",
       "      <td>AmItheAsshole</td>\n",
       "      <td>I (21,f) got a new roomate Mary (23,f)this yea...</td>\n",
       "      <td>t2_ecx8s39i</td>\n",
       "      <td>0</td>\n",
       "      <td>AITA for ignoring my roommate?</td>\n",
       "      <td>[]</td>\n",
       "      <td>r/AmItheAsshole</td>\n",
       "      <td>False</td>\n",
       "      <td>6</td>\n",
       "      <td>NaN</td>\n",
       "      <td>...</td>\n",
       "      <td>1671063985</td>\n",
       "      <td>2022-12-15 00:26:09</td>\n",
       "      <td>NaN</td>\n",
       "      <td>NaN</td>\n",
       "      <td>NaN</td>\n",
       "      <td>NaN</td>\n",
       "      <td>NaN</td>\n",
       "      <td>NaN</td>\n",
       "      <td>NaN</td>\n",
       "      <td>NaN</td>\n",
       "    </tr>\n",
       "    <tr>\n",
       "      <th>4</th>\n",
       "      <td>AmItheAsshole</td>\n",
       "      <td>a couple months ago, me (18, F) and my ex boyf...</td>\n",
       "      <td>t2_uzh0mjhj</td>\n",
       "      <td>0</td>\n",
       "      <td>AITA for sending nudes to my ex boyfriend’s be...</td>\n",
       "      <td>[]</td>\n",
       "      <td>r/AmItheAsshole</td>\n",
       "      <td>False</td>\n",
       "      <td>6</td>\n",
       "      <td>NaN</td>\n",
       "      <td>...</td>\n",
       "      <td>1671063920</td>\n",
       "      <td>2022-12-15 00:25:07</td>\n",
       "      <td>NaN</td>\n",
       "      <td>NaN</td>\n",
       "      <td>NaN</td>\n",
       "      <td>NaN</td>\n",
       "      <td>NaN</td>\n",
       "      <td>NaN</td>\n",
       "      <td>NaN</td>\n",
       "      <td>NaN</td>\n",
       "    </tr>\n",
       "  </tbody>\n",
       "</table>\n",
       "<p>5 rows × 94 columns</p>\n",
       "</div>"
      ],
      "text/plain": [
       "       subreddit                                           selftext  \\\n",
       "0  AmItheAsshole  TA\\n\\nLong story short my mom lend my ski Jack...   \n",
       "1  AmItheAsshole  Rachel, Katy and I were part of a big friend g...   \n",
       "2  AmItheAsshole  So me 17 and my mom 36 are in a fight and I ne...   \n",
       "3  AmItheAsshole  I (21,f) got a new roomate Mary (23,f)this yea...   \n",
       "4  AmItheAsshole  a couple months ago, me (18, F) and my ex boyf...   \n",
       "\n",
       "  author_fullname  gilded                                              title  \\\n",
       "0     t2_tyyt86d3       0  AITA for being upset bc my mom lend my ski gea...   \n",
       "1     t2_n2jeq1b6       0  AITA for not inviting my friend to a concert s...   \n",
       "2     t2_q8j6qqlx       0  AITA for telling my mom I won’t talk to her ag...   \n",
       "3     t2_ecx8s39i       0                     AITA for ignoring my roommate?   \n",
       "4     t2_uzh0mjhj       0  AITA for sending nudes to my ex boyfriend’s be...   \n",
       "\n",
       "  link_flair_richtext subreddit_name_prefixed  hidden  pwls  \\\n",
       "0                  []         r/AmItheAsshole   False     6   \n",
       "1                  []         r/AmItheAsshole   False     6   \n",
       "2                  []         r/AmItheAsshole   False     6   \n",
       "3                  []         r/AmItheAsshole   False     6   \n",
       "4                  []         r/AmItheAsshole   False     6   \n",
       "\n",
       "  link_flair_css_class  ...  updated_utc     utc_datetime_str  author_cakeday  \\\n",
       "0                  NaN  ...   1671064113  2022-12-15 00:28:15             NaN   \n",
       "1                  NaN  ...   1671064049  2022-12-15 00:27:12             NaN   \n",
       "2                  NaN  ...   1671064041  2022-12-15 00:27:05             NaN   \n",
       "3                  NaN  ...   1671063985  2022-12-15 00:26:09             NaN   \n",
       "4                  NaN  ...   1671063920  2022-12-15 00:25:07             NaN   \n",
       "\n",
       "   post_hint preview  link_flair_template_id edited_on event_start  event_end  \\\n",
       "0        NaN     NaN                     NaN       NaN         NaN        NaN   \n",
       "1        NaN     NaN                     NaN       NaN         NaN        NaN   \n",
       "2        NaN     NaN                     NaN       NaN         NaN        NaN   \n",
       "3        NaN     NaN                     NaN       NaN         NaN        NaN   \n",
       "4        NaN     NaN                     NaN       NaN         NaN        NaN   \n",
       "\n",
       "  event_is_live  \n",
       "0           NaN  \n",
       "1           NaN  \n",
       "2           NaN  \n",
       "3           NaN  \n",
       "4           NaN  \n",
       "\n",
       "[5 rows x 94 columns]"
      ]
     },
     "execution_count": 5,
     "metadata": {},
     "output_type": "execute_result"
    }
   ],
   "source": [
    "subreddits.head()"
   ]
  },
  {
   "cell_type": "code",
   "execution_count": 6,
   "id": "227a69d2-d5b9-4e83-9b48-c86accc33eec",
   "metadata": {
    "execution": {
     "iopub.execute_input": "2022-12-15T00:40:32.634082Z",
     "iopub.status.busy": "2022-12-15T00:40:32.633594Z",
     "iopub.status.idle": "2022-12-15T00:40:32.690740Z",
     "shell.execute_reply": "2022-12-15T00:40:32.690412Z",
     "shell.execute_reply.started": "2022-12-15T00:40:32.634049Z"
    },
    "tags": []
   },
   "outputs": [
    {
     "data": {
      "text/html": [
       "<div>\n",
       "<style scoped>\n",
       "    .dataframe tbody tr th:only-of-type {\n",
       "        vertical-align: middle;\n",
       "    }\n",
       "\n",
       "    .dataframe tbody tr th {\n",
       "        vertical-align: top;\n",
       "    }\n",
       "\n",
       "    .dataframe thead th {\n",
       "        text-align: right;\n",
       "    }\n",
       "</style>\n",
       "<table border=\"1\" class=\"dataframe\">\n",
       "  <thead>\n",
       "    <tr style=\"text-align: right;\">\n",
       "      <th></th>\n",
       "      <th>subreddit</th>\n",
       "      <th>selftext</th>\n",
       "      <th>author_fullname</th>\n",
       "      <th>gilded</th>\n",
       "      <th>title</th>\n",
       "      <th>link_flair_richtext</th>\n",
       "      <th>subreddit_name_prefixed</th>\n",
       "      <th>hidden</th>\n",
       "      <th>pwls</th>\n",
       "      <th>link_flair_css_class</th>\n",
       "      <th>...</th>\n",
       "      <th>updated_utc</th>\n",
       "      <th>utc_datetime_str</th>\n",
       "      <th>author_cakeday</th>\n",
       "      <th>post_hint</th>\n",
       "      <th>preview</th>\n",
       "      <th>link_flair_template_id</th>\n",
       "      <th>edited_on</th>\n",
       "      <th>event_start</th>\n",
       "      <th>event_end</th>\n",
       "      <th>event_is_live</th>\n",
       "    </tr>\n",
       "  </thead>\n",
       "  <tbody>\n",
       "    <tr>\n",
       "      <th>0</th>\n",
       "      <td>AmItheAsshole</td>\n",
       "      <td>TA\\n\\nLong story short my mom lend my ski Jack...</td>\n",
       "      <td>t2_tyyt86d3</td>\n",
       "      <td>0</td>\n",
       "      <td>AITA for being upset bc my mom lend my ski gea...</td>\n",
       "      <td>[]</td>\n",
       "      <td>r/AmItheAsshole</td>\n",
       "      <td>False</td>\n",
       "      <td>6</td>\n",
       "      <td>NaN</td>\n",
       "      <td>...</td>\n",
       "      <td>1671064113</td>\n",
       "      <td>2022-12-15 00:28:15</td>\n",
       "      <td>NaN</td>\n",
       "      <td>NaN</td>\n",
       "      <td>NaN</td>\n",
       "      <td>NaN</td>\n",
       "      <td>NaN</td>\n",
       "      <td>NaN</td>\n",
       "      <td>NaN</td>\n",
       "      <td>NaN</td>\n",
       "    </tr>\n",
       "    <tr>\n",
       "      <th>1</th>\n",
       "      <td>AmItheAsshole</td>\n",
       "      <td>Rachel, Katy and I were part of a big friend g...</td>\n",
       "      <td>t2_n2jeq1b6</td>\n",
       "      <td>0</td>\n",
       "      <td>AITA for not inviting my friend to a concert s...</td>\n",
       "      <td>[]</td>\n",
       "      <td>r/AmItheAsshole</td>\n",
       "      <td>False</td>\n",
       "      <td>6</td>\n",
       "      <td>NaN</td>\n",
       "      <td>...</td>\n",
       "      <td>1671064049</td>\n",
       "      <td>2022-12-15 00:27:12</td>\n",
       "      <td>NaN</td>\n",
       "      <td>NaN</td>\n",
       "      <td>NaN</td>\n",
       "      <td>NaN</td>\n",
       "      <td>NaN</td>\n",
       "      <td>NaN</td>\n",
       "      <td>NaN</td>\n",
       "      <td>NaN</td>\n",
       "    </tr>\n",
       "    <tr>\n",
       "      <th>2</th>\n",
       "      <td>AmItheAsshole</td>\n",
       "      <td>So me 17 and my mom 36 are in a fight and I ne...</td>\n",
       "      <td>t2_q8j6qqlx</td>\n",
       "      <td>0</td>\n",
       "      <td>AITA for telling my mom I won’t talk to her ag...</td>\n",
       "      <td>[]</td>\n",
       "      <td>r/AmItheAsshole</td>\n",
       "      <td>False</td>\n",
       "      <td>6</td>\n",
       "      <td>NaN</td>\n",
       "      <td>...</td>\n",
       "      <td>1671064041</td>\n",
       "      <td>2022-12-15 00:27:05</td>\n",
       "      <td>NaN</td>\n",
       "      <td>NaN</td>\n",
       "      <td>NaN</td>\n",
       "      <td>NaN</td>\n",
       "      <td>NaN</td>\n",
       "      <td>NaN</td>\n",
       "      <td>NaN</td>\n",
       "      <td>NaN</td>\n",
       "    </tr>\n",
       "    <tr>\n",
       "      <th>3</th>\n",
       "      <td>AmItheAsshole</td>\n",
       "      <td>I (21,f) got a new roomate Mary (23,f)this yea...</td>\n",
       "      <td>t2_ecx8s39i</td>\n",
       "      <td>0</td>\n",
       "      <td>AITA for ignoring my roommate?</td>\n",
       "      <td>[]</td>\n",
       "      <td>r/AmItheAsshole</td>\n",
       "      <td>False</td>\n",
       "      <td>6</td>\n",
       "      <td>NaN</td>\n",
       "      <td>...</td>\n",
       "      <td>1671063985</td>\n",
       "      <td>2022-12-15 00:26:09</td>\n",
       "      <td>NaN</td>\n",
       "      <td>NaN</td>\n",
       "      <td>NaN</td>\n",
       "      <td>NaN</td>\n",
       "      <td>NaN</td>\n",
       "      <td>NaN</td>\n",
       "      <td>NaN</td>\n",
       "      <td>NaN</td>\n",
       "    </tr>\n",
       "    <tr>\n",
       "      <th>4</th>\n",
       "      <td>AmItheAsshole</td>\n",
       "      <td>a couple months ago, me (18, F) and my ex boyf...</td>\n",
       "      <td>t2_uzh0mjhj</td>\n",
       "      <td>0</td>\n",
       "      <td>AITA for sending nudes to my ex boyfriend’s be...</td>\n",
       "      <td>[]</td>\n",
       "      <td>r/AmItheAsshole</td>\n",
       "      <td>False</td>\n",
       "      <td>6</td>\n",
       "      <td>NaN</td>\n",
       "      <td>...</td>\n",
       "      <td>1671063920</td>\n",
       "      <td>2022-12-15 00:25:07</td>\n",
       "      <td>NaN</td>\n",
       "      <td>NaN</td>\n",
       "      <td>NaN</td>\n",
       "      <td>NaN</td>\n",
       "      <td>NaN</td>\n",
       "      <td>NaN</td>\n",
       "      <td>NaN</td>\n",
       "      <td>NaN</td>\n",
       "    </tr>\n",
       "    <tr>\n",
       "      <th>...</th>\n",
       "      <td>...</td>\n",
       "      <td>...</td>\n",
       "      <td>...</td>\n",
       "      <td>...</td>\n",
       "      <td>...</td>\n",
       "      <td>...</td>\n",
       "      <td>...</td>\n",
       "      <td>...</td>\n",
       "      <td>...</td>\n",
       "      <td>...</td>\n",
       "      <td>...</td>\n",
       "      <td>...</td>\n",
       "      <td>...</td>\n",
       "      <td>...</td>\n",
       "      <td>...</td>\n",
       "      <td>...</td>\n",
       "      <td>...</td>\n",
       "      <td>...</td>\n",
       "      <td>...</td>\n",
       "      <td>...</td>\n",
       "      <td>...</td>\n",
       "    </tr>\n",
       "    <tr>\n",
       "      <th>48527</th>\n",
       "      <td>TrueOffMyChest</td>\n",
       "      <td>My fiance is a grad student that teaches and I...</td>\n",
       "      <td>t2_igq4zdyg</td>\n",
       "      <td>0</td>\n",
       "      <td>Feel guilty for not being able to make my fian...</td>\n",
       "      <td>[]</td>\n",
       "      <td>r/TrueOffMyChest</td>\n",
       "      <td>False</td>\n",
       "      <td>7</td>\n",
       "      <td>NaN</td>\n",
       "      <td>...</td>\n",
       "      <td>1669821554</td>\n",
       "      <td>2022-11-15 00:42:05</td>\n",
       "      <td>NaN</td>\n",
       "      <td>NaN</td>\n",
       "      <td>NaN</td>\n",
       "      <td>NaN</td>\n",
       "      <td>NaN</td>\n",
       "      <td>NaN</td>\n",
       "      <td>NaN</td>\n",
       "      <td>NaN</td>\n",
       "    </tr>\n",
       "    <tr>\n",
       "      <th>48528</th>\n",
       "      <td>TrueOffMyChest</td>\n",
       "      <td>I have a 12 year old son with autism. And a 8 ...</td>\n",
       "      <td>t2_u9hkanax</td>\n",
       "      <td>0</td>\n",
       "      <td>My kids fight over food and eating foods that ...</td>\n",
       "      <td>[]</td>\n",
       "      <td>r/TrueOffMyChest</td>\n",
       "      <td>False</td>\n",
       "      <td>7</td>\n",
       "      <td>NaN</td>\n",
       "      <td>...</td>\n",
       "      <td>1669821554</td>\n",
       "      <td>2022-11-15 00:40:45</td>\n",
       "      <td>NaN</td>\n",
       "      <td>NaN</td>\n",
       "      <td>NaN</td>\n",
       "      <td>NaN</td>\n",
       "      <td>NaN</td>\n",
       "      <td>NaN</td>\n",
       "      <td>NaN</td>\n",
       "      <td>NaN</td>\n",
       "    </tr>\n",
       "    <tr>\n",
       "      <th>48529</th>\n",
       "      <td>TrueOffMyChest</td>\n",
       "      <td>I (15M) am sad all the time. I never go outsid...</td>\n",
       "      <td>t2_u7y9djlz</td>\n",
       "      <td>0</td>\n",
       "      <td>If people really knew</td>\n",
       "      <td>[]</td>\n",
       "      <td>r/TrueOffMyChest</td>\n",
       "      <td>False</td>\n",
       "      <td>7</td>\n",
       "      <td>NaN</td>\n",
       "      <td>...</td>\n",
       "      <td>1669821555</td>\n",
       "      <td>2022-11-15 00:36:48</td>\n",
       "      <td>NaN</td>\n",
       "      <td>NaN</td>\n",
       "      <td>NaN</td>\n",
       "      <td>NaN</td>\n",
       "      <td>NaN</td>\n",
       "      <td>NaN</td>\n",
       "      <td>NaN</td>\n",
       "      <td>NaN</td>\n",
       "    </tr>\n",
       "    <tr>\n",
       "      <th>48530</th>\n",
       "      <td>TrueOffMyChest</td>\n",
       "      <td>I'm currently dating a guy. We both love each ...</td>\n",
       "      <td>t2_ub7on4ft</td>\n",
       "      <td>0</td>\n",
       "      <td>I still miss my ex even though i have a new bo...</td>\n",
       "      <td>[]</td>\n",
       "      <td>r/TrueOffMyChest</td>\n",
       "      <td>False</td>\n",
       "      <td>7</td>\n",
       "      <td>NaN</td>\n",
       "      <td>...</td>\n",
       "      <td>1669821555</td>\n",
       "      <td>2022-11-15 00:35:42</td>\n",
       "      <td>NaN</td>\n",
       "      <td>NaN</td>\n",
       "      <td>NaN</td>\n",
       "      <td>NaN</td>\n",
       "      <td>NaN</td>\n",
       "      <td>NaN</td>\n",
       "      <td>NaN</td>\n",
       "      <td>NaN</td>\n",
       "    </tr>\n",
       "    <tr>\n",
       "      <th>48531</th>\n",
       "      <td>TrueOffMyChest</td>\n",
       "      <td>Was with my ex for 3 years, she was very narci...</td>\n",
       "      <td>t2_oo06g43l</td>\n",
       "      <td>0</td>\n",
       "      <td>still not healed</td>\n",
       "      <td>[]</td>\n",
       "      <td>r/TrueOffMyChest</td>\n",
       "      <td>False</td>\n",
       "      <td>7</td>\n",
       "      <td>NaN</td>\n",
       "      <td>...</td>\n",
       "      <td>1669821555</td>\n",
       "      <td>2022-11-15 00:34:35</td>\n",
       "      <td>NaN</td>\n",
       "      <td>NaN</td>\n",
       "      <td>NaN</td>\n",
       "      <td>NaN</td>\n",
       "      <td>NaN</td>\n",
       "      <td>NaN</td>\n",
       "      <td>NaN</td>\n",
       "      <td>NaN</td>\n",
       "    </tr>\n",
       "  </tbody>\n",
       "</table>\n",
       "<p>29001 rows × 94 columns</p>\n",
       "</div>"
      ],
      "text/plain": [
       "            subreddit                                           selftext  \\\n",
       "0       AmItheAsshole  TA\\n\\nLong story short my mom lend my ski Jack...   \n",
       "1       AmItheAsshole  Rachel, Katy and I were part of a big friend g...   \n",
       "2       AmItheAsshole  So me 17 and my mom 36 are in a fight and I ne...   \n",
       "3       AmItheAsshole  I (21,f) got a new roomate Mary (23,f)this yea...   \n",
       "4       AmItheAsshole  a couple months ago, me (18, F) and my ex boyf...   \n",
       "...               ...                                                ...   \n",
       "48527  TrueOffMyChest  My fiance is a grad student that teaches and I...   \n",
       "48528  TrueOffMyChest  I have a 12 year old son with autism. And a 8 ...   \n",
       "48529  TrueOffMyChest  I (15M) am sad all the time. I never go outsid...   \n",
       "48530  TrueOffMyChest  I'm currently dating a guy. We both love each ...   \n",
       "48531  TrueOffMyChest  Was with my ex for 3 years, she was very narci...   \n",
       "\n",
       "      author_fullname  gilded  \\\n",
       "0         t2_tyyt86d3       0   \n",
       "1         t2_n2jeq1b6       0   \n",
       "2         t2_q8j6qqlx       0   \n",
       "3         t2_ecx8s39i       0   \n",
       "4         t2_uzh0mjhj       0   \n",
       "...               ...     ...   \n",
       "48527     t2_igq4zdyg       0   \n",
       "48528     t2_u9hkanax       0   \n",
       "48529     t2_u7y9djlz       0   \n",
       "48530     t2_ub7on4ft       0   \n",
       "48531     t2_oo06g43l       0   \n",
       "\n",
       "                                                   title link_flair_richtext  \\\n",
       "0      AITA for being upset bc my mom lend my ski gea...                  []   \n",
       "1      AITA for not inviting my friend to a concert s...                  []   \n",
       "2      AITA for telling my mom I won’t talk to her ag...                  []   \n",
       "3                         AITA for ignoring my roommate?                  []   \n",
       "4      AITA for sending nudes to my ex boyfriend’s be...                  []   \n",
       "...                                                  ...                 ...   \n",
       "48527  Feel guilty for not being able to make my fian...                  []   \n",
       "48528  My kids fight over food and eating foods that ...                  []   \n",
       "48529                              If people really knew                  []   \n",
       "48530  I still miss my ex even though i have a new bo...                  []   \n",
       "48531                                   still not healed                  []   \n",
       "\n",
       "      subreddit_name_prefixed  hidden  pwls link_flair_css_class  ...  \\\n",
       "0             r/AmItheAsshole   False     6                  NaN  ...   \n",
       "1             r/AmItheAsshole   False     6                  NaN  ...   \n",
       "2             r/AmItheAsshole   False     6                  NaN  ...   \n",
       "3             r/AmItheAsshole   False     6                  NaN  ...   \n",
       "4             r/AmItheAsshole   False     6                  NaN  ...   \n",
       "...                       ...     ...   ...                  ...  ...   \n",
       "48527        r/TrueOffMyChest   False     7                  NaN  ...   \n",
       "48528        r/TrueOffMyChest   False     7                  NaN  ...   \n",
       "48529        r/TrueOffMyChest   False     7                  NaN  ...   \n",
       "48530        r/TrueOffMyChest   False     7                  NaN  ...   \n",
       "48531        r/TrueOffMyChest   False     7                  NaN  ...   \n",
       "\n",
       "       updated_utc     utc_datetime_str  author_cakeday  post_hint preview  \\\n",
       "0       1671064113  2022-12-15 00:28:15             NaN        NaN     NaN   \n",
       "1       1671064049  2022-12-15 00:27:12             NaN        NaN     NaN   \n",
       "2       1671064041  2022-12-15 00:27:05             NaN        NaN     NaN   \n",
       "3       1671063985  2022-12-15 00:26:09             NaN        NaN     NaN   \n",
       "4       1671063920  2022-12-15 00:25:07             NaN        NaN     NaN   \n",
       "...            ...                  ...             ...        ...     ...   \n",
       "48527   1669821554  2022-11-15 00:42:05             NaN        NaN     NaN   \n",
       "48528   1669821554  2022-11-15 00:40:45             NaN        NaN     NaN   \n",
       "48529   1669821555  2022-11-15 00:36:48             NaN        NaN     NaN   \n",
       "48530   1669821555  2022-11-15 00:35:42             NaN        NaN     NaN   \n",
       "48531   1669821555  2022-11-15 00:34:35             NaN        NaN     NaN   \n",
       "\n",
       "       link_flair_template_id edited_on event_start  event_end event_is_live  \n",
       "0                         NaN       NaN         NaN        NaN           NaN  \n",
       "1                         NaN       NaN         NaN        NaN           NaN  \n",
       "2                         NaN       NaN         NaN        NaN           NaN  \n",
       "3                         NaN       NaN         NaN        NaN           NaN  \n",
       "4                         NaN       NaN         NaN        NaN           NaN  \n",
       "...                       ...       ...         ...        ...           ...  \n",
       "48527                     NaN       NaN         NaN        NaN           NaN  \n",
       "48528                     NaN       NaN         NaN        NaN           NaN  \n",
       "48529                     NaN       NaN         NaN        NaN           NaN  \n",
       "48530                     NaN       NaN         NaN        NaN           NaN  \n",
       "48531                     NaN       NaN         NaN        NaN           NaN  \n",
       "\n",
       "[29001 rows x 94 columns]"
      ]
     },
     "execution_count": 6,
     "metadata": {},
     "output_type": "execute_result"
    }
   ],
   "source": [
    "subreddits[subreddits['selftext'] != '[removed]']"
   ]
  },
  {
   "cell_type": "markdown",
   "id": "85f58536-039e-4f44-bc7d-062c22ce97d8",
   "metadata": {},
   "source": [
    "Over half the posts from r/AmItheAsshole have the body removed. This would train my models to interperet a removed post as heavily leaning towards this subreddit. Thus I am dropping the rows where the selftect is '[removed]'. Leaving the values as empty or null would induce the same effect. "
   ]
  },
  {
   "cell_type": "markdown",
   "id": "7b371920-a92e-47d3-8674-f510666ce653",
   "metadata": {},
   "source": [
    "## Data Cleaning"
   ]
  },
  {
   "cell_type": "code",
   "execution_count": 7,
   "id": "8ca5912a-0e3f-4038-9fcf-49b4d9a0f372",
   "metadata": {
    "execution": {
     "iopub.execute_input": "2022-12-15T00:40:34.072677Z",
     "iopub.status.busy": "2022-12-15T00:40:34.071723Z",
     "iopub.status.idle": "2022-12-15T00:40:34.079995Z",
     "shell.execute_reply": "2022-12-15T00:40:34.078712Z",
     "shell.execute_reply.started": "2022-12-15T00:40:34.072592Z"
    },
    "tags": []
   },
   "outputs": [],
   "source": [
    "clean_df = subreddits # creating new df to clean and act as a checkpoint in case I do anything irrepairable. "
   ]
  },
  {
   "cell_type": "code",
   "execution_count": 8,
   "id": "177a57f2-d5a5-42a2-b383-5d8b2f3c8114",
   "metadata": {
    "execution": {
     "iopub.execute_input": "2022-12-15T00:40:34.541161Z",
     "iopub.status.busy": "2022-12-15T00:40:34.539676Z",
     "iopub.status.idle": "2022-12-15T00:40:34.558269Z",
     "shell.execute_reply": "2022-12-15T00:40:34.557737Z",
     "shell.execute_reply.started": "2022-12-15T00:40:34.541096Z"
    },
    "tags": []
   },
   "outputs": [
    {
     "data": {
      "text/plain": [
       "AmItheAsshole     30995\n",
       "TrueOffMyChest    17537\n",
       "Name: subreddit, dtype: int64"
      ]
     },
     "execution_count": 8,
     "metadata": {},
     "output_type": "execute_result"
    }
   ],
   "source": [
    "clean_df['subreddit'].value_counts()"
   ]
  },
  {
   "cell_type": "code",
   "execution_count": 9,
   "id": "d5599a08-b3f0-43fb-906b-6c3ff869febb",
   "metadata": {
    "execution": {
     "iopub.execute_input": "2022-12-15T00:40:34.978447Z",
     "iopub.status.busy": "2022-12-15T00:40:34.977604Z",
     "iopub.status.idle": "2022-12-15T00:40:35.054438Z",
     "shell.execute_reply": "2022-12-15T00:40:35.054075Z",
     "shell.execute_reply.started": "2022-12-15T00:40:34.978398Z"
    },
    "tags": []
   },
   "outputs": [
    {
     "data": {
      "text/plain": [
       "[removed]                                                                                                                                                                                                                                                                                                                                                                                                                                                                                                                                                                                                                                                                                                                                                                                                                                                                                                                                                                                                                                                                                                                                                                                                                                                                                                                                                                                                                                                                                                                                                                       19531\n",
       "[deleted]                                                                                                                                                                                                                                                                                                                                                                                                                                                                                                                                                                                                                                                                                                                                                                                                                                                                                                                                                                                                                                                                                                                                                                                                                                                                                                                                                                                                                                                                                                                                                                         138\n",
       "I am 19 years old I made a pledge to myself to see how effects would ameliorate in the future, but they've only gotten worse and the same, I do not know what differently to do. Tonight, I am going to hang myself. I have written about it, told my family about it, went therapy and so on. All haven’t helped too much nor do they even care as I seen from it just ignoring or blaming. I am just really done. I can not feel to look at myself and feel useful because I am so lonely and just living being for its own sake. Loneliness is consuming me to know end. I believe there's nothing in this world for me. It seems as if there's nothing in store for me in the future maybe not true but I just see anything now just miserable and alone. I truly do not want to survive this time, it would be better for me to die. \\n\\nI see occasionally everyone lead happy lives and live their lives. I despise who I'm and do not ever want to live again. Whoever reads this, thank you for being in my life and commenting. I can not stand being fully alone any longer. I infrequently manage to produce complete Words when I do get the chance to speak to someone. disregard a girl. Stuttering or the fair I’m boring not knowing what to say social anxiety. when I have something on mymind, I've a hard time actually saying it. Who on earth would be patient enough to hear me out? How could I conceivably keep a conversation with someone if I tried to talk to them? I can’t really communicate with them easily. Nor am I worth anyone’s time.       10\n",
       "Name: selftext, dtype: int64"
      ]
     },
     "execution_count": 9,
     "metadata": {},
     "output_type": "execute_result"
    }
   ],
   "source": [
    "clean_df['selftext'].value_counts().sort_values(ascending=False).head(3) # Have to take care of rows where there is no post"
   ]
  },
  {
   "cell_type": "code",
   "execution_count": 10,
   "id": "bd20a768-00cc-45ae-a4e3-5ca3b9c360da",
   "metadata": {
    "execution": {
     "iopub.execute_input": "2022-12-15T00:40:35.413418Z",
     "iopub.status.busy": "2022-12-15T00:40:35.412496Z",
     "iopub.status.idle": "2022-12-15T00:40:35.453222Z",
     "shell.execute_reply": "2022-12-15T00:40:35.452754Z",
     "shell.execute_reply.started": "2022-12-15T00:40:35.413325Z"
    },
    "tags": []
   },
   "outputs": [],
   "source": [
    "clean_df = subreddits[(subreddits['selftext'] != '[removed]')]"
   ]
  },
  {
   "cell_type": "code",
   "execution_count": 11,
   "id": "f16cd32d-13cc-409c-9a61-0cda8efb5fb8",
   "metadata": {
    "execution": {
     "iopub.execute_input": "2022-12-15T00:40:35.872169Z",
     "iopub.status.busy": "2022-12-15T00:40:35.871479Z",
     "iopub.status.idle": "2022-12-15T00:40:35.905711Z",
     "shell.execute_reply": "2022-12-15T00:40:35.905315Z",
     "shell.execute_reply.started": "2022-12-15T00:40:35.872082Z"
    },
    "tags": []
   },
   "outputs": [],
   "source": [
    "clean_df = clean_df[clean_df['selftext'] != '[deleted]']"
   ]
  },
  {
   "cell_type": "code",
   "execution_count": 12,
   "id": "1f390daf-99b6-49dc-a937-d218dd56b849",
   "metadata": {
    "execution": {
     "iopub.execute_input": "2022-12-15T00:40:36.304388Z",
     "iopub.status.busy": "2022-12-15T00:40:36.303952Z",
     "iopub.status.idle": "2022-12-15T00:40:36.317223Z",
     "shell.execute_reply": "2022-12-15T00:40:36.316433Z",
     "shell.execute_reply.started": "2022-12-15T00:40:36.304353Z"
    },
    "tags": []
   },
   "outputs": [
    {
     "data": {
      "text/plain": [
       "AmItheAsshole     14849\n",
       "TrueOffMyChest    14014\n",
       "Name: subreddit, dtype: int64"
      ]
     },
     "execution_count": 12,
     "metadata": {},
     "output_type": "execute_result"
    }
   ],
   "source": [
    "clean_df['subreddit'].value_counts().head(3) # Great news for me. Just about even, I shouldn't have to worry too much about my distribution"
   ]
  },
  {
   "cell_type": "code",
   "execution_count": 13,
   "id": "cd0ebc54-0c92-4c5b-8b70-4ccb8394410b",
   "metadata": {
    "execution": {
     "iopub.execute_input": "2022-12-15T00:40:36.771580Z",
     "iopub.status.busy": "2022-12-15T00:40:36.771042Z",
     "iopub.status.idle": "2022-12-15T00:40:36.807108Z",
     "shell.execute_reply": "2022-12-15T00:40:36.806740Z",
     "shell.execute_reply.started": "2022-12-15T00:40:36.771503Z"
    },
    "tags": []
   },
   "outputs": [
    {
     "data": {
      "text/plain": [
       "((28419, 94), (444, 94))"
      ]
     },
     "execution_count": 13,
     "metadata": {},
     "output_type": "execute_result"
    }
   ],
   "source": [
    "clean_df[clean_df['selftext'].notna()].shape, clean_df[clean_df['selftext'].isnull()].shape #dropping rows with nulls. I've got enough data to do so."
   ]
  },
  {
   "cell_type": "code",
   "execution_count": 14,
   "id": "e045a0ca-af3f-4b54-8dd2-5ec2cdb2bbfa",
   "metadata": {
    "execution": {
     "iopub.execute_input": "2022-12-15T00:40:37.231398Z",
     "iopub.status.busy": "2022-12-15T00:40:37.230497Z",
     "iopub.status.idle": "2022-12-15T00:40:37.266784Z",
     "shell.execute_reply": "2022-12-15T00:40:37.266389Z",
     "shell.execute_reply.started": "2022-12-15T00:40:37.231321Z"
    },
    "tags": []
   },
   "outputs": [],
   "source": [
    "clean_df = clean_df[clean_df['selftext'].notna()]"
   ]
  },
  {
   "cell_type": "code",
   "execution_count": 15,
   "id": "c763cb53-6821-4020-b90d-a5f2b53f97ce",
   "metadata": {
    "execution": {
     "iopub.execute_input": "2022-12-15T00:40:37.710410Z",
     "iopub.status.busy": "2022-12-15T00:40:37.709514Z",
     "iopub.status.idle": "2022-12-15T00:40:37.850207Z",
     "shell.execute_reply": "2022-12-15T00:40:37.849887Z",
     "shell.execute_reply.started": "2022-12-15T00:40:37.710327Z"
    },
    "tags": []
   },
   "outputs": [
    {
     "name": "stdout",
     "output_type": "stream",
     "text": [
      "<class 'pandas.core.frame.DataFrame'>\n",
      "Int64Index: 28419 entries, 0 to 48531\n",
      "Data columns (total 94 columns):\n",
      " #   Column                         Non-Null Count  Dtype  \n",
      "---  ------                         --------------  -----  \n",
      " 0   subreddit                      28419 non-null  object \n",
      " 1   selftext                       28419 non-null  object \n",
      " 2   author_fullname                28419 non-null  object \n",
      " 3   gilded                         28419 non-null  int64  \n",
      " 4   title                          28419 non-null  object \n",
      " 5   link_flair_richtext            28419 non-null  object \n",
      " 6   subreddit_name_prefixed        28419 non-null  object \n",
      " 7   hidden                         28419 non-null  bool   \n",
      " 8   pwls                           28419 non-null  int64  \n",
      " 9   link_flair_css_class           1 non-null      object \n",
      " 10  thumbnail_height               0 non-null      float64\n",
      " 11  top_awarded_type               0 non-null      float64\n",
      " 12  hide_score                     28419 non-null  bool   \n",
      " 13  quarantine                     28419 non-null  bool   \n",
      " 14  link_flair_text_color          28419 non-null  object \n",
      " 15  upvote_ratio                   28419 non-null  float64\n",
      " 16  author_flair_background_color  299 non-null    object \n",
      " 17  subreddit_type                 28419 non-null  object \n",
      " 18  total_awards_received          28419 non-null  int64  \n",
      " 19  media_embed                    28419 non-null  object \n",
      " 20  thumbnail_width                0 non-null      float64\n",
      " 21  author_flair_template_id       300 non-null    object \n",
      " 22  is_original_content            28419 non-null  bool   \n",
      " 23  secure_media                   0 non-null      float64\n",
      " 24  is_reddit_media_domain         28419 non-null  bool   \n",
      " 25  is_meta                        28419 non-null  bool   \n",
      " 26  category                       0 non-null      float64\n",
      " 27  secure_media_embed             28419 non-null  object \n",
      " 28  link_flair_text                2 non-null      object \n",
      " 29  score                          28419 non-null  int64  \n",
      " 30  is_created_from_ads_ui         28419 non-null  bool   \n",
      " 31  author_premium                 28419 non-null  object \n",
      " 32  thumbnail                      28419 non-null  object \n",
      " 33  edited                         28419 non-null  bool   \n",
      " 34  author_flair_css_class         1 non-null      object \n",
      " 35  author_flair_richtext          28419 non-null  object \n",
      " 36  gildings                       28419 non-null  object \n",
      " 37  content_categories             0 non-null      float64\n",
      " 38  is_self                        28419 non-null  bool   \n",
      " 39  link_flair_type                28419 non-null  object \n",
      " 40  wls                            28419 non-null  int64  \n",
      " 41  removed_by_category            0 non-null      object \n",
      " 42  author_flair_type              28419 non-null  object \n",
      " 43  domain                         28419 non-null  object \n",
      " 44  allow_live_comments            28419 non-null  bool   \n",
      " 45  suggested_sort                 14074 non-null  object \n",
      " 46  view_count                     0 non-null      float64\n",
      " 47  archived                       28419 non-null  bool   \n",
      " 48  no_follow                      28419 non-null  bool   \n",
      " 49  is_crosspostable               28419 non-null  bool   \n",
      " 50  pinned                         28419 non-null  bool   \n",
      " 51  over_18                        28419 non-null  bool   \n",
      " 52  all_awardings                  28419 non-null  object \n",
      " 53  awarders                       28419 non-null  object \n",
      " 54  media_only                     28419 non-null  bool   \n",
      " 55  can_gild                       28419 non-null  bool   \n",
      " 56  spoiler                        28419 non-null  bool   \n",
      " 57  locked                         28419 non-null  bool   \n",
      " 58  author_flair_text              300 non-null    object \n",
      " 59  treatment_tags                 28419 non-null  object \n",
      " 60  removed_by                     0 non-null      float64\n",
      " 61  distinguished                  1 non-null      object \n",
      " 62  subreddit_id                   28419 non-null  object \n",
      " 63  link_flair_background_color    2 non-null      object \n",
      " 64  id                             28419 non-null  object \n",
      " 65  is_robot_indexable             28419 non-null  bool   \n",
      " 66  author                         28419 non-null  object \n",
      " 67  discussion_type                0 non-null      float64\n",
      " 68  num_comments                   28419 non-null  int64  \n",
      " 69  send_replies                   28419 non-null  bool   \n",
      " 70  whitelist_status               28419 non-null  object \n",
      " 71  contest_mode                   28419 non-null  bool   \n",
      " 72  author_patreon_flair           28419 non-null  object \n",
      " 73  author_flair_text_color        301 non-null    object \n",
      " 74  permalink                      28419 non-null  object \n",
      " 75  parent_whitelist_status        28419 non-null  object \n",
      " 76  stickied                       28419 non-null  bool   \n",
      " 77  url                            28419 non-null  object \n",
      " 78  subreddit_subscribers          28419 non-null  int64  \n",
      " 79  created_utc                    28419 non-null  int64  \n",
      " 80  num_crossposts                 28419 non-null  int64  \n",
      " 81  media                          0 non-null      float64\n",
      " 82  is_video                       28419 non-null  bool   \n",
      " 83  retrieved_utc                  28419 non-null  int64  \n",
      " 84  updated_utc                    28419 non-null  int64  \n",
      " 85  utc_datetime_str               28419 non-null  object \n",
      " 86  author_cakeday                 52 non-null     object \n",
      " 87  post_hint                      57 non-null     object \n",
      " 88  preview                        57 non-null     object \n",
      " 89  link_flair_template_id         2 non-null      object \n",
      " 90  edited_on                      57 non-null     float64\n",
      " 91  event_start                    1 non-null      float64\n",
      " 92  event_end                      1 non-null      float64\n",
      " 93  event_is_live                  1 non-null      object \n",
      "dtypes: bool(24), float64(14), int64(11), object(45)\n",
      "memory usage: 16.0+ MB\n"
     ]
    }
   ],
   "source": [
    "clean_df.info() # There are many features with basically no information in them. Should definitely drop these and maybe anything with over half gone?"
   ]
  },
  {
   "cell_type": "markdown",
   "id": "85ed6640-6f38-4c8d-ba20-16d8d6904fd9",
   "metadata": {},
   "source": [
    "##### There's a clear tag in r/AmItheAsshole that asks \"AITA\" or \"WIBTAH\" or \"WIBTA\" prior to the question. This tag would train the models to look for the tag to determine where to place it. Removing the tag to train a better model."
   ]
  },
  {
   "cell_type": "code",
   "execution_count": 16,
   "id": "7c7ae929-2fe7-444c-9a09-da665b185126",
   "metadata": {
    "execution": {
     "iopub.execute_input": "2022-12-15T00:40:38.700866Z",
     "iopub.status.busy": "2022-12-15T00:40:38.700199Z",
     "iopub.status.idle": "2022-12-15T00:40:38.867290Z",
     "shell.execute_reply": "2022-12-15T00:40:38.866899Z",
     "shell.execute_reply.started": "2022-12-15T00:40:38.700800Z"
    },
    "tags": []
   },
   "outputs": [],
   "source": [
    "clean_df['title'] = clean_df['title'].map(lambda x: x.replace('AITA', '').replace('WIBTAH', '').replace('WIBTA', ''))\n",
    "clean_df['selftext'] = clean_df['selftext'].map(lambda x: x.replace('AITA', '').replace('WIBTAH', '').replace('WIBTA', ''))"
   ]
  },
  {
   "cell_type": "code",
   "execution_count": 17,
   "id": "25e3aef9-55fd-42f3-8308-c03dec764cd7",
   "metadata": {
    "execution": {
     "iopub.execute_input": "2022-12-15T00:40:39.143492Z",
     "iopub.status.busy": "2022-12-15T00:40:39.143021Z",
     "iopub.status.idle": "2022-12-15T00:40:39.155863Z",
     "shell.execute_reply": "2022-12-15T00:40:39.154789Z",
     "shell.execute_reply.started": "2022-12-15T00:40:39.143457Z"
    },
    "tags": []
   },
   "outputs": [
    {
     "data": {
      "text/plain": [
       "0         for being upset bc my mom lend my ski gear wi...\n",
       "1         for not inviting my friend to a concert she c...\n",
       "2         for telling my mom I won’t talk to her again ...\n",
       "3                                for ignoring my roommate?\n",
       "4         for sending nudes to my ex boyfriend’s best f...\n",
       "                               ...                        \n",
       "48527    Feel guilty for not being able to make my fian...\n",
       "48528    My kids fight over food and eating foods that ...\n",
       "48529                                If people really knew\n",
       "48530    I still miss my ex even though i have a new bo...\n",
       "48531                                     still not healed\n",
       "Name: title, Length: 28419, dtype: object"
      ]
     },
     "execution_count": 17,
     "metadata": {},
     "output_type": "execute_result"
    }
   ],
   "source": [
    "clean_df['title'] # sanity check"
   ]
  },
  {
   "cell_type": "markdown",
   "id": "272cbdb4-9d27-4a81-9ffc-c928c40a03e6",
   "metadata": {},
   "source": [
    "##### There aren't many emojis in a majority of the posts. Removing them for the sake of the models"
   ]
  },
  {
   "cell_type": "code",
   "execution_count": 18,
   "id": "218344b9-ad11-42f5-abc3-bebd4eb4048b",
   "metadata": {
    "execution": {
     "iopub.execute_input": "2022-12-15T00:40:40.122130Z",
     "iopub.status.busy": "2022-12-15T00:40:40.121291Z",
     "iopub.status.idle": "2022-12-15T00:40:40.884042Z",
     "shell.execute_reply": "2022-12-15T00:40:40.883714Z",
     "shell.execute_reply.started": "2022-12-15T00:40:40.122076Z"
    },
    "tags": []
   },
   "outputs": [
    {
     "name": "stderr",
     "output_type": "stream",
     "text": [
      "/var/folders/2f/m4z0nfhn5px0p2mdppmmrlxr0000gn/T/ipykernel_15535/1755926767.py:1: FutureWarning: The default value of regex will change from True to False in a future version. In addition, single character regular expressions will *not* be treated as literal strings when regex=True.\n",
      "  clean_df['selftext'] = clean_df['selftext'].str.replace('(', ' ', flags=re.UNICODE)\\\n",
      "/var/folders/2f/m4z0nfhn5px0p2mdppmmrlxr0000gn/T/ipykernel_15535/1755926767.py:1: FutureWarning: The default value of regex will change from True to False in a future version.\n",
      "  clean_df['selftext'] = clean_df['selftext'].str.replace('(', ' ', flags=re.UNICODE)\\\n"
     ]
    }
   ],
   "source": [
    "clean_df['selftext'] = clean_df['selftext'].str.replace('(', ' ', flags=re.UNICODE)\\\n",
    ".str.replace(')', ' ', flags=re.UNICODE)\\\n",
    ".str.replace('[^\\sA-Za-z0-9]', '', flags=re.UNICODE)\\\n",
    ".str.replace('\\n', ' ', flags=re.UNICODE)"
   ]
  },
  {
   "cell_type": "markdown",
   "id": "f9109c6d-098b-46dc-8b0c-d64c02aea9d8",
   "metadata": {},
   "source": [
    "##### Code block above replace parenthesis with space. Some posts have \"word(details)\" and simply removing them would make up new words. Ignores white space and any actual letters numbers. Line 3 should remove any special characters, which should only affect emojis. Line 4 removes the newline placeholder."
   ]
  },
  {
   "cell_type": "code",
   "execution_count": 19,
   "id": "c5e22a16-0f8a-4ac0-a4fc-d085f445b708",
   "metadata": {
    "execution": {
     "iopub.execute_input": "2022-12-15T00:40:41.882475Z",
     "iopub.status.busy": "2022-12-15T00:40:41.881552Z",
     "iopub.status.idle": "2022-12-15T00:40:41.894992Z",
     "shell.execute_reply": "2022-12-15T00:40:41.894295Z",
     "shell.execute_reply.started": "2022-12-15T00:40:41.882397Z"
    },
    "tags": []
   },
   "outputs": [
    {
     "data": {
      "text/plain": [
       "0        TA  Long story short my mom lend my ski Jacket...\n",
       "1        Rachel Katy and I were part of a big friend gr...\n",
       "2        So me 17 and my mom 36 are in a fight and I ne...\n",
       "3        I  21f  got a new roomate Mary  23f this year ...\n",
       "4        a couple months ago me  18 F  and my ex boyfri...\n",
       "                               ...                        \n",
       "48527    My fiance is a grad student that teaches and I...\n",
       "48528    I have a 12 year old son with autism And a 8 y...\n",
       "48529    I  15M  am sad all the time I never go outside...\n",
       "48530    Im currently dating a guy We both love each ot...\n",
       "48531    Was with my ex for 3 years she was very narcis...\n",
       "Name: selftext, Length: 28419, dtype: object"
      ]
     },
     "execution_count": 19,
     "metadata": {},
     "output_type": "execute_result"
    }
   ],
   "source": [
    "clean_df['selftext']"
   ]
  },
  {
   "cell_type": "code",
   "execution_count": 20,
   "id": "1e63a510-deee-4782-8caf-4beb0e42efc2",
   "metadata": {
    "execution": {
     "iopub.execute_input": "2022-12-15T00:40:42.405688Z",
     "iopub.status.busy": "2022-12-15T00:40:42.405177Z",
     "iopub.status.idle": "2022-12-15T00:40:42.514757Z",
     "shell.execute_reply": "2022-12-15T00:40:42.514409Z",
     "shell.execute_reply.started": "2022-12-15T00:40:42.405651Z"
    },
    "tags": []
   },
   "outputs": [
    {
     "name": "stderr",
     "output_type": "stream",
     "text": [
      "/var/folders/2f/m4z0nfhn5px0p2mdppmmrlxr0000gn/T/ipykernel_15535/2488134872.py:1: FutureWarning: The default value of regex will change from True to False in a future version. In addition, single character regular expressions will *not* be treated as literal strings when regex=True.\n",
      "  clean_df['title'] = clean_df['title'].str.replace('(', ' ', flags=re.UNICODE)\\\n",
      "/var/folders/2f/m4z0nfhn5px0p2mdppmmrlxr0000gn/T/ipykernel_15535/2488134872.py:1: FutureWarning: The default value of regex will change from True to False in a future version.\n",
      "  clean_df['title'] = clean_df['title'].str.replace('(', ' ', flags=re.UNICODE)\\\n"
     ]
    }
   ],
   "source": [
    "clean_df['title'] = clean_df['title'].str.replace('(', ' ', flags=re.UNICODE)\\\n",
    ".str.replace(')', ' ', flags=re.UNICODE)\\\n",
    ".str.replace('[^\\sA-Za-z0-9]', '', flags=re.UNICODE)\\\n",
    ".str.replace('\\n', ' ', flags=re.UNICODE)"
   ]
  },
  {
   "cell_type": "code",
   "execution_count": 21,
   "id": "e26b97bc-0609-4eb0-8c73-3b71b347972f",
   "metadata": {
    "execution": {
     "iopub.execute_input": "2022-12-15T00:40:42.905300Z",
     "iopub.status.busy": "2022-12-15T00:40:42.904693Z",
     "iopub.status.idle": "2022-12-15T00:40:42.960643Z",
     "shell.execute_reply": "2022-12-15T00:40:42.960136Z",
     "shell.execute_reply.started": "2022-12-15T00:40:42.905259Z"
    },
    "tags": []
   },
   "outputs": [],
   "source": [
    "clean_df = clean_df[clean_df['selftext'] != 'deleted']"
   ]
  },
  {
   "cell_type": "code",
   "execution_count": 22,
   "id": "a2437797-e0a9-4ffe-9903-d61d0bd3f427",
   "metadata": {
    "execution": {
     "iopub.execute_input": "2022-12-15T00:40:43.328284Z",
     "iopub.status.busy": "2022-12-15T00:40:43.327386Z",
     "iopub.status.idle": "2022-12-15T00:40:43.360421Z",
     "shell.execute_reply": "2022-12-15T00:40:43.359982Z",
     "shell.execute_reply.started": "2022-12-15T00:40:43.328208Z"
    },
    "tags": []
   },
   "outputs": [],
   "source": [
    "clean_df = clean_df[clean_df['selftext'].notna()]"
   ]
  },
  {
   "cell_type": "code",
   "execution_count": 23,
   "id": "ea08eb7b-1102-43b0-a21d-6a0b844dec6e",
   "metadata": {
    "execution": {
     "iopub.execute_input": "2022-12-15T00:40:43.758697Z",
     "iopub.status.busy": "2022-12-15T00:40:43.758144Z",
     "iopub.status.idle": "2022-12-15T00:40:43.772484Z",
     "shell.execute_reply": "2022-12-15T00:40:43.771666Z",
     "shell.execute_reply.started": "2022-12-15T00:40:43.758652Z"
    },
    "tags": []
   },
   "outputs": [
    {
     "data": {
      "text/plain": [
       "AmItheAsshole     14849\n",
       "TrueOffMyChest    13570\n",
       "Name: subreddit, dtype: int64"
      ]
     },
     "execution_count": 23,
     "metadata": {},
     "output_type": "execute_result"
    }
   ],
   "source": [
    "clean_df['subreddit'].value_counts()"
   ]
  },
  {
   "cell_type": "markdown",
   "id": "13d96d0e-3f5f-4ceb-97ee-bca640b013cd",
   "metadata": {},
   "source": [
    "##### To address features with many null values, anything exceeding a certain threshhold ought to be dropped."
   ]
  },
  {
   "cell_type": "code",
   "execution_count": 24,
   "id": "71b745d9-578e-4b2e-8b78-452622298825",
   "metadata": {
    "execution": {
     "iopub.execute_input": "2022-12-15T00:40:44.634962Z",
     "iopub.status.busy": "2022-12-15T00:40:44.634076Z",
     "iopub.status.idle": "2022-12-15T00:40:44.702317Z",
     "shell.execute_reply": "2022-12-15T00:40:44.702003Z",
     "shell.execute_reply.started": "2022-12-15T00:40:44.634887Z"
    },
    "tags": []
   },
   "outputs": [
    {
     "data": {
      "text/plain": [
       "['link_flair_css_class',\n",
       " 'thumbnail_height',\n",
       " 'top_awarded_type',\n",
       " 'author_flair_background_color',\n",
       " 'thumbnail_width',\n",
       " 'author_flair_template_id',\n",
       " 'secure_media',\n",
       " 'category',\n",
       " 'link_flair_text',\n",
       " 'author_flair_css_class',\n",
       " 'content_categories',\n",
       " 'removed_by_category',\n",
       " 'suggested_sort',\n",
       " 'view_count',\n",
       " 'author_flair_text',\n",
       " 'removed_by',\n",
       " 'distinguished',\n",
       " 'link_flair_background_color',\n",
       " 'discussion_type',\n",
       " 'author_flair_text_color',\n",
       " 'media',\n",
       " 'author_cakeday',\n",
       " 'post_hint',\n",
       " 'preview',\n",
       " 'link_flair_template_id',\n",
       " 'edited_on',\n",
       " 'event_start',\n",
       " 'event_end',\n",
       " 'event_is_live']"
      ]
     },
     "execution_count": 24,
     "metadata": {},
     "output_type": "execute_result"
    }
   ],
   "source": [
    "feat_drop = []\n",
    "for feat in clean_df.columns:\n",
    "    if clean_df[feat].isnull().sum()>13_000: #about half\n",
    "        feat_drop.append(feat)\n",
    "        \n",
    "feat_drop"
   ]
  },
  {
   "cell_type": "markdown",
   "id": "1f0fdadf-95fa-4720-a3ab-ffc9c936a235",
   "metadata": {},
   "source": [
    "##### Is there any information that can be gleaned from these columns?"
   ]
  },
  {
   "cell_type": "code",
   "execution_count": 25,
   "id": "c6884f48-2073-4f02-909b-ed334604b00f",
   "metadata": {
    "execution": {
     "iopub.execute_input": "2022-12-15T00:40:45.639311Z",
     "iopub.status.busy": "2022-12-15T00:40:45.638779Z",
     "iopub.status.idle": "2022-12-15T00:40:45.665469Z",
     "shell.execute_reply": "2022-12-15T00:40:45.665034Z",
     "shell.execute_reply.started": "2022-12-15T00:40:45.639269Z"
    },
    "tags": []
   },
   "outputs": [
    {
     "data": {
      "text/html": [
       "<div>\n",
       "<style scoped>\n",
       "    .dataframe tbody tr th:only-of-type {\n",
       "        vertical-align: middle;\n",
       "    }\n",
       "\n",
       "    .dataframe tbody tr th {\n",
       "        vertical-align: top;\n",
       "    }\n",
       "\n",
       "    .dataframe thead th {\n",
       "        text-align: right;\n",
       "    }\n",
       "</style>\n",
       "<table border=\"1\" class=\"dataframe\">\n",
       "  <thead>\n",
       "    <tr style=\"text-align: right;\">\n",
       "      <th></th>\n",
       "      <th>link_flair_css_class</th>\n",
       "      <th>thumbnail_height</th>\n",
       "      <th>top_awarded_type</th>\n",
       "      <th>author_flair_background_color</th>\n",
       "      <th>thumbnail_width</th>\n",
       "      <th>author_flair_template_id</th>\n",
       "      <th>secure_media</th>\n",
       "      <th>category</th>\n",
       "      <th>link_flair_text</th>\n",
       "      <th>author_flair_css_class</th>\n",
       "      <th>...</th>\n",
       "      <th>author_flair_text_color</th>\n",
       "      <th>media</th>\n",
       "      <th>author_cakeday</th>\n",
       "      <th>post_hint</th>\n",
       "      <th>preview</th>\n",
       "      <th>link_flair_template_id</th>\n",
       "      <th>edited_on</th>\n",
       "      <th>event_start</th>\n",
       "      <th>event_end</th>\n",
       "      <th>event_is_live</th>\n",
       "    </tr>\n",
       "  </thead>\n",
       "  <tbody>\n",
       "    <tr>\n",
       "      <th>0</th>\n",
       "      <td>NaN</td>\n",
       "      <td>NaN</td>\n",
       "      <td>NaN</td>\n",
       "      <td>NaN</td>\n",
       "      <td>NaN</td>\n",
       "      <td>NaN</td>\n",
       "      <td>NaN</td>\n",
       "      <td>NaN</td>\n",
       "      <td>NaN</td>\n",
       "      <td>NaN</td>\n",
       "      <td>...</td>\n",
       "      <td>NaN</td>\n",
       "      <td>NaN</td>\n",
       "      <td>NaN</td>\n",
       "      <td>NaN</td>\n",
       "      <td>NaN</td>\n",
       "      <td>NaN</td>\n",
       "      <td>NaN</td>\n",
       "      <td>NaN</td>\n",
       "      <td>NaN</td>\n",
       "      <td>NaN</td>\n",
       "    </tr>\n",
       "    <tr>\n",
       "      <th>1</th>\n",
       "      <td>NaN</td>\n",
       "      <td>NaN</td>\n",
       "      <td>NaN</td>\n",
       "      <td>NaN</td>\n",
       "      <td>NaN</td>\n",
       "      <td>NaN</td>\n",
       "      <td>NaN</td>\n",
       "      <td>NaN</td>\n",
       "      <td>NaN</td>\n",
       "      <td>NaN</td>\n",
       "      <td>...</td>\n",
       "      <td>NaN</td>\n",
       "      <td>NaN</td>\n",
       "      <td>NaN</td>\n",
       "      <td>NaN</td>\n",
       "      <td>NaN</td>\n",
       "      <td>NaN</td>\n",
       "      <td>NaN</td>\n",
       "      <td>NaN</td>\n",
       "      <td>NaN</td>\n",
       "      <td>NaN</td>\n",
       "    </tr>\n",
       "    <tr>\n",
       "      <th>2</th>\n",
       "      <td>NaN</td>\n",
       "      <td>NaN</td>\n",
       "      <td>NaN</td>\n",
       "      <td>NaN</td>\n",
       "      <td>NaN</td>\n",
       "      <td>NaN</td>\n",
       "      <td>NaN</td>\n",
       "      <td>NaN</td>\n",
       "      <td>NaN</td>\n",
       "      <td>NaN</td>\n",
       "      <td>...</td>\n",
       "      <td>NaN</td>\n",
       "      <td>NaN</td>\n",
       "      <td>NaN</td>\n",
       "      <td>NaN</td>\n",
       "      <td>NaN</td>\n",
       "      <td>NaN</td>\n",
       "      <td>NaN</td>\n",
       "      <td>NaN</td>\n",
       "      <td>NaN</td>\n",
       "      <td>NaN</td>\n",
       "    </tr>\n",
       "    <tr>\n",
       "      <th>3</th>\n",
       "      <td>NaN</td>\n",
       "      <td>NaN</td>\n",
       "      <td>NaN</td>\n",
       "      <td>NaN</td>\n",
       "      <td>NaN</td>\n",
       "      <td>NaN</td>\n",
       "      <td>NaN</td>\n",
       "      <td>NaN</td>\n",
       "      <td>NaN</td>\n",
       "      <td>NaN</td>\n",
       "      <td>...</td>\n",
       "      <td>NaN</td>\n",
       "      <td>NaN</td>\n",
       "      <td>NaN</td>\n",
       "      <td>NaN</td>\n",
       "      <td>NaN</td>\n",
       "      <td>NaN</td>\n",
       "      <td>NaN</td>\n",
       "      <td>NaN</td>\n",
       "      <td>NaN</td>\n",
       "      <td>NaN</td>\n",
       "    </tr>\n",
       "    <tr>\n",
       "      <th>4</th>\n",
       "      <td>NaN</td>\n",
       "      <td>NaN</td>\n",
       "      <td>NaN</td>\n",
       "      <td>NaN</td>\n",
       "      <td>NaN</td>\n",
       "      <td>NaN</td>\n",
       "      <td>NaN</td>\n",
       "      <td>NaN</td>\n",
       "      <td>NaN</td>\n",
       "      <td>NaN</td>\n",
       "      <td>...</td>\n",
       "      <td>NaN</td>\n",
       "      <td>NaN</td>\n",
       "      <td>NaN</td>\n",
       "      <td>NaN</td>\n",
       "      <td>NaN</td>\n",
       "      <td>NaN</td>\n",
       "      <td>NaN</td>\n",
       "      <td>NaN</td>\n",
       "      <td>NaN</td>\n",
       "      <td>NaN</td>\n",
       "    </tr>\n",
       "  </tbody>\n",
       "</table>\n",
       "<p>5 rows × 29 columns</p>\n",
       "</div>"
      ],
      "text/plain": [
       "  link_flair_css_class  thumbnail_height  top_awarded_type  \\\n",
       "0                  NaN               NaN               NaN   \n",
       "1                  NaN               NaN               NaN   \n",
       "2                  NaN               NaN               NaN   \n",
       "3                  NaN               NaN               NaN   \n",
       "4                  NaN               NaN               NaN   \n",
       "\n",
       "  author_flair_background_color  thumbnail_width author_flair_template_id  \\\n",
       "0                           NaN              NaN                      NaN   \n",
       "1                           NaN              NaN                      NaN   \n",
       "2                           NaN              NaN                      NaN   \n",
       "3                           NaN              NaN                      NaN   \n",
       "4                           NaN              NaN                      NaN   \n",
       "\n",
       "   secure_media  category link_flair_text author_flair_css_class  ...  \\\n",
       "0           NaN       NaN             NaN                    NaN  ...   \n",
       "1           NaN       NaN             NaN                    NaN  ...   \n",
       "2           NaN       NaN             NaN                    NaN  ...   \n",
       "3           NaN       NaN             NaN                    NaN  ...   \n",
       "4           NaN       NaN             NaN                    NaN  ...   \n",
       "\n",
       "   author_flair_text_color media author_cakeday  post_hint preview  \\\n",
       "0                      NaN   NaN            NaN        NaN     NaN   \n",
       "1                      NaN   NaN            NaN        NaN     NaN   \n",
       "2                      NaN   NaN            NaN        NaN     NaN   \n",
       "3                      NaN   NaN            NaN        NaN     NaN   \n",
       "4                      NaN   NaN            NaN        NaN     NaN   \n",
       "\n",
       "   link_flair_template_id edited_on event_start  event_end event_is_live  \n",
       "0                     NaN       NaN         NaN        NaN           NaN  \n",
       "1                     NaN       NaN         NaN        NaN           NaN  \n",
       "2                     NaN       NaN         NaN        NaN           NaN  \n",
       "3                     NaN       NaN         NaN        NaN           NaN  \n",
       "4                     NaN       NaN         NaN        NaN           NaN  \n",
       "\n",
       "[5 rows x 29 columns]"
      ]
     },
     "execution_count": 25,
     "metadata": {},
     "output_type": "execute_result"
    }
   ],
   "source": [
    "clean_df[feat_drop].head() # no not really."
   ]
  },
  {
   "cell_type": "markdown",
   "id": "0e7717e0-3511-4410-b97d-c059594e91d8",
   "metadata": {},
   "source": [
    "##### Let's explore the rest of the columns to see if there's anything useful.\n",
    "\n",
    "Definitely Useful: subreddit, selftext, author, title"
   ]
  },
  {
   "cell_type": "code",
   "execution_count": 26,
   "id": "87e942c5-e694-4036-a30c-354cb8097b9f",
   "metadata": {
    "execution": {
     "iopub.execute_input": "2022-12-15T00:40:46.580841Z",
     "iopub.status.busy": "2022-12-15T00:40:46.580201Z",
     "iopub.status.idle": "2022-12-15T00:40:46.613264Z",
     "shell.execute_reply": "2022-12-15T00:40:46.612829Z",
     "shell.execute_reply.started": "2022-12-15T00:40:46.580809Z"
    },
    "tags": []
   },
   "outputs": [
    {
     "data": {
      "text/html": [
       "<div>\n",
       "<style scoped>\n",
       "    .dataframe tbody tr th:only-of-type {\n",
       "        vertical-align: middle;\n",
       "    }\n",
       "\n",
       "    .dataframe tbody tr th {\n",
       "        vertical-align: top;\n",
       "    }\n",
       "\n",
       "    .dataframe thead th {\n",
       "        text-align: right;\n",
       "    }\n",
       "</style>\n",
       "<table border=\"1\" class=\"dataframe\">\n",
       "  <thead>\n",
       "    <tr style=\"text-align: right;\">\n",
       "      <th></th>\n",
       "      <th>subreddit</th>\n",
       "      <th>selftext</th>\n",
       "      <th>author_fullname</th>\n",
       "      <th>gilded</th>\n",
       "      <th>title</th>\n",
       "      <th>link_flair_richtext</th>\n",
       "      <th>subreddit_name_prefixed</th>\n",
       "      <th>hidden</th>\n",
       "      <th>pwls</th>\n",
       "      <th>hide_score</th>\n",
       "      <th>quarantine</th>\n",
       "      <th>link_flair_text_color</th>\n",
       "      <th>upvote_ratio</th>\n",
       "      <th>subreddit_type</th>\n",
       "      <th>total_awards_received</th>\n",
       "    </tr>\n",
       "  </thead>\n",
       "  <tbody>\n",
       "    <tr>\n",
       "      <th>0</th>\n",
       "      <td>AmItheAsshole</td>\n",
       "      <td>TA  Long story short my mom lend my ski Jacket...</td>\n",
       "      <td>t2_tyyt86d3</td>\n",
       "      <td>0</td>\n",
       "      <td>for being upset bc my mom lend my ski gear wi...</td>\n",
       "      <td>[]</td>\n",
       "      <td>r/AmItheAsshole</td>\n",
       "      <td>False</td>\n",
       "      <td>6</td>\n",
       "      <td>True</td>\n",
       "      <td>False</td>\n",
       "      <td>dark</td>\n",
       "      <td>1.0</td>\n",
       "      <td>public</td>\n",
       "      <td>0</td>\n",
       "    </tr>\n",
       "    <tr>\n",
       "      <th>1</th>\n",
       "      <td>AmItheAsshole</td>\n",
       "      <td>Rachel Katy and I were part of a big friend gr...</td>\n",
       "      <td>t2_n2jeq1b6</td>\n",
       "      <td>0</td>\n",
       "      <td>for not inviting my friend to a concert she c...</td>\n",
       "      <td>[]</td>\n",
       "      <td>r/AmItheAsshole</td>\n",
       "      <td>False</td>\n",
       "      <td>6</td>\n",
       "      <td>True</td>\n",
       "      <td>False</td>\n",
       "      <td>dark</td>\n",
       "      <td>1.0</td>\n",
       "      <td>public</td>\n",
       "      <td>0</td>\n",
       "    </tr>\n",
       "    <tr>\n",
       "      <th>2</th>\n",
       "      <td>AmItheAsshole</td>\n",
       "      <td>So me 17 and my mom 36 are in a fight and I ne...</td>\n",
       "      <td>t2_q8j6qqlx</td>\n",
       "      <td>0</td>\n",
       "      <td>for telling my mom I wont talk to her again i...</td>\n",
       "      <td>[]</td>\n",
       "      <td>r/AmItheAsshole</td>\n",
       "      <td>False</td>\n",
       "      <td>6</td>\n",
       "      <td>True</td>\n",
       "      <td>False</td>\n",
       "      <td>dark</td>\n",
       "      <td>1.0</td>\n",
       "      <td>public</td>\n",
       "      <td>0</td>\n",
       "    </tr>\n",
       "    <tr>\n",
       "      <th>3</th>\n",
       "      <td>AmItheAsshole</td>\n",
       "      <td>I  21f  got a new roomate Mary  23f this year ...</td>\n",
       "      <td>t2_ecx8s39i</td>\n",
       "      <td>0</td>\n",
       "      <td>for ignoring my roommate</td>\n",
       "      <td>[]</td>\n",
       "      <td>r/AmItheAsshole</td>\n",
       "      <td>False</td>\n",
       "      <td>6</td>\n",
       "      <td>True</td>\n",
       "      <td>False</td>\n",
       "      <td>dark</td>\n",
       "      <td>1.0</td>\n",
       "      <td>public</td>\n",
       "      <td>0</td>\n",
       "    </tr>\n",
       "    <tr>\n",
       "      <th>4</th>\n",
       "      <td>AmItheAsshole</td>\n",
       "      <td>a couple months ago me  18 F  and my ex boyfri...</td>\n",
       "      <td>t2_uzh0mjhj</td>\n",
       "      <td>0</td>\n",
       "      <td>for sending nudes to my ex boyfriends best fr...</td>\n",
       "      <td>[]</td>\n",
       "      <td>r/AmItheAsshole</td>\n",
       "      <td>False</td>\n",
       "      <td>6</td>\n",
       "      <td>True</td>\n",
       "      <td>False</td>\n",
       "      <td>dark</td>\n",
       "      <td>1.0</td>\n",
       "      <td>public</td>\n",
       "      <td>0</td>\n",
       "    </tr>\n",
       "  </tbody>\n",
       "</table>\n",
       "</div>"
      ],
      "text/plain": [
       "       subreddit                                           selftext  \\\n",
       "0  AmItheAsshole  TA  Long story short my mom lend my ski Jacket...   \n",
       "1  AmItheAsshole  Rachel Katy and I were part of a big friend gr...   \n",
       "2  AmItheAsshole  So me 17 and my mom 36 are in a fight and I ne...   \n",
       "3  AmItheAsshole  I  21f  got a new roomate Mary  23f this year ...   \n",
       "4  AmItheAsshole  a couple months ago me  18 F  and my ex boyfri...   \n",
       "\n",
       "  author_fullname  gilded                                              title  \\\n",
       "0     t2_tyyt86d3       0   for being upset bc my mom lend my ski gear wi...   \n",
       "1     t2_n2jeq1b6       0   for not inviting my friend to a concert she c...   \n",
       "2     t2_q8j6qqlx       0   for telling my mom I wont talk to her again i...   \n",
       "3     t2_ecx8s39i       0                           for ignoring my roommate   \n",
       "4     t2_uzh0mjhj       0   for sending nudes to my ex boyfriends best fr...   \n",
       "\n",
       "  link_flair_richtext subreddit_name_prefixed  hidden  pwls  hide_score  \\\n",
       "0                  []         r/AmItheAsshole   False     6        True   \n",
       "1                  []         r/AmItheAsshole   False     6        True   \n",
       "2                  []         r/AmItheAsshole   False     6        True   \n",
       "3                  []         r/AmItheAsshole   False     6        True   \n",
       "4                  []         r/AmItheAsshole   False     6        True   \n",
       "\n",
       "   quarantine link_flair_text_color  upvote_ratio subreddit_type  \\\n",
       "0       False                  dark           1.0         public   \n",
       "1       False                  dark           1.0         public   \n",
       "2       False                  dark           1.0         public   \n",
       "3       False                  dark           1.0         public   \n",
       "4       False                  dark           1.0         public   \n",
       "\n",
       "   total_awards_received  \n",
       "0                      0  \n",
       "1                      0  \n",
       "2                      0  \n",
       "3                      0  \n",
       "4                      0  "
      ]
     },
     "execution_count": 26,
     "metadata": {},
     "output_type": "execute_result"
    }
   ],
   "source": [
    "clean_df.drop(columns = feat_drop).iloc[:,:15].head()"
   ]
  },
  {
   "cell_type": "code",
   "execution_count": 27,
   "id": "a7ed576d-dbc3-458e-994f-c010ab2d2f8a",
   "metadata": {
    "execution": {
     "iopub.execute_input": "2022-12-15T00:40:47.086657Z",
     "iopub.status.busy": "2022-12-15T00:40:47.086309Z",
     "iopub.status.idle": "2022-12-15T00:40:47.109303Z",
     "shell.execute_reply": "2022-12-15T00:40:47.108993Z",
     "shell.execute_reply.started": "2022-12-15T00:40:47.086625Z"
    },
    "tags": []
   },
   "outputs": [
    {
     "data": {
      "text/html": [
       "<div>\n",
       "<style scoped>\n",
       "    .dataframe tbody tr th:only-of-type {\n",
       "        vertical-align: middle;\n",
       "    }\n",
       "\n",
       "    .dataframe tbody tr th {\n",
       "        vertical-align: top;\n",
       "    }\n",
       "\n",
       "    .dataframe thead th {\n",
       "        text-align: right;\n",
       "    }\n",
       "</style>\n",
       "<table border=\"1\" class=\"dataframe\">\n",
       "  <thead>\n",
       "    <tr style=\"text-align: right;\">\n",
       "      <th></th>\n",
       "      <th>media_embed</th>\n",
       "      <th>is_original_content</th>\n",
       "      <th>is_reddit_media_domain</th>\n",
       "      <th>is_meta</th>\n",
       "      <th>secure_media_embed</th>\n",
       "      <th>score</th>\n",
       "      <th>is_created_from_ads_ui</th>\n",
       "      <th>author_premium</th>\n",
       "      <th>thumbnail</th>\n",
       "      <th>edited</th>\n",
       "      <th>author_flair_richtext</th>\n",
       "      <th>gildings</th>\n",
       "      <th>is_self</th>\n",
       "      <th>link_flair_type</th>\n",
       "      <th>wls</th>\n",
       "    </tr>\n",
       "  </thead>\n",
       "  <tbody>\n",
       "    <tr>\n",
       "      <th>0</th>\n",
       "      <td>{}</td>\n",
       "      <td>False</td>\n",
       "      <td>False</td>\n",
       "      <td>False</td>\n",
       "      <td>{}</td>\n",
       "      <td>1</td>\n",
       "      <td>False</td>\n",
       "      <td>False</td>\n",
       "      <td>self</td>\n",
       "      <td>False</td>\n",
       "      <td>[]</td>\n",
       "      <td>{}</td>\n",
       "      <td>True</td>\n",
       "      <td>text</td>\n",
       "      <td>6</td>\n",
       "    </tr>\n",
       "    <tr>\n",
       "      <th>1</th>\n",
       "      <td>{}</td>\n",
       "      <td>False</td>\n",
       "      <td>False</td>\n",
       "      <td>False</td>\n",
       "      <td>{}</td>\n",
       "      <td>1</td>\n",
       "      <td>False</td>\n",
       "      <td>False</td>\n",
       "      <td>self</td>\n",
       "      <td>False</td>\n",
       "      <td>[]</td>\n",
       "      <td>{}</td>\n",
       "      <td>True</td>\n",
       "      <td>text</td>\n",
       "      <td>6</td>\n",
       "    </tr>\n",
       "    <tr>\n",
       "      <th>2</th>\n",
       "      <td>{}</td>\n",
       "      <td>False</td>\n",
       "      <td>False</td>\n",
       "      <td>False</td>\n",
       "      <td>{}</td>\n",
       "      <td>1</td>\n",
       "      <td>False</td>\n",
       "      <td>False</td>\n",
       "      <td>self</td>\n",
       "      <td>False</td>\n",
       "      <td>[]</td>\n",
       "      <td>{}</td>\n",
       "      <td>True</td>\n",
       "      <td>text</td>\n",
       "      <td>6</td>\n",
       "    </tr>\n",
       "    <tr>\n",
       "      <th>3</th>\n",
       "      <td>{}</td>\n",
       "      <td>False</td>\n",
       "      <td>False</td>\n",
       "      <td>False</td>\n",
       "      <td>{}</td>\n",
       "      <td>1</td>\n",
       "      <td>False</td>\n",
       "      <td>False</td>\n",
       "      <td>self</td>\n",
       "      <td>False</td>\n",
       "      <td>[]</td>\n",
       "      <td>{}</td>\n",
       "      <td>True</td>\n",
       "      <td>text</td>\n",
       "      <td>6</td>\n",
       "    </tr>\n",
       "    <tr>\n",
       "      <th>4</th>\n",
       "      <td>{}</td>\n",
       "      <td>False</td>\n",
       "      <td>False</td>\n",
       "      <td>False</td>\n",
       "      <td>{}</td>\n",
       "      <td>1</td>\n",
       "      <td>False</td>\n",
       "      <td>False</td>\n",
       "      <td>self</td>\n",
       "      <td>False</td>\n",
       "      <td>[]</td>\n",
       "      <td>{}</td>\n",
       "      <td>True</td>\n",
       "      <td>text</td>\n",
       "      <td>6</td>\n",
       "    </tr>\n",
       "  </tbody>\n",
       "</table>\n",
       "</div>"
      ],
      "text/plain": [
       "  media_embed  is_original_content  is_reddit_media_domain  is_meta  \\\n",
       "0          {}                False                   False    False   \n",
       "1          {}                False                   False    False   \n",
       "2          {}                False                   False    False   \n",
       "3          {}                False                   False    False   \n",
       "4          {}                False                   False    False   \n",
       "\n",
       "  secure_media_embed  score  is_created_from_ads_ui author_premium thumbnail  \\\n",
       "0                 {}      1                   False          False      self   \n",
       "1                 {}      1                   False          False      self   \n",
       "2                 {}      1                   False          False      self   \n",
       "3                 {}      1                   False          False      self   \n",
       "4                 {}      1                   False          False      self   \n",
       "\n",
       "   edited author_flair_richtext gildings  is_self link_flair_type  wls  \n",
       "0   False                    []       {}     True            text    6  \n",
       "1   False                    []       {}     True            text    6  \n",
       "2   False                    []       {}     True            text    6  \n",
       "3   False                    []       {}     True            text    6  \n",
       "4   False                    []       {}     True            text    6  "
      ]
     },
     "execution_count": 27,
     "metadata": {},
     "output_type": "execute_result"
    }
   ],
   "source": [
    "clean_df.drop(columns = feat_drop).iloc[:,15:30].head()\n",
    "# maybe score"
   ]
  },
  {
   "cell_type": "code",
   "execution_count": 28,
   "id": "f1f0fd25-4fde-4839-97ac-ba222d8381d5",
   "metadata": {
    "execution": {
     "iopub.execute_input": "2022-12-15T00:40:47.651492Z",
     "iopub.status.busy": "2022-12-15T00:40:47.651162Z",
     "iopub.status.idle": "2022-12-15T00:40:47.681074Z",
     "shell.execute_reply": "2022-12-15T00:40:47.680710Z",
     "shell.execute_reply.started": "2022-12-15T00:40:47.651463Z"
    },
    "tags": []
   },
   "outputs": [
    {
     "data": {
      "text/html": [
       "<div>\n",
       "<style scoped>\n",
       "    .dataframe tbody tr th:only-of-type {\n",
       "        vertical-align: middle;\n",
       "    }\n",
       "\n",
       "    .dataframe tbody tr th {\n",
       "        vertical-align: top;\n",
       "    }\n",
       "\n",
       "    .dataframe thead th {\n",
       "        text-align: right;\n",
       "    }\n",
       "</style>\n",
       "<table border=\"1\" class=\"dataframe\">\n",
       "  <thead>\n",
       "    <tr style=\"text-align: right;\">\n",
       "      <th></th>\n",
       "      <th>author_flair_type</th>\n",
       "      <th>domain</th>\n",
       "      <th>allow_live_comments</th>\n",
       "      <th>archived</th>\n",
       "      <th>no_follow</th>\n",
       "      <th>is_crosspostable</th>\n",
       "      <th>pinned</th>\n",
       "      <th>over_18</th>\n",
       "      <th>all_awardings</th>\n",
       "      <th>awarders</th>\n",
       "      <th>media_only</th>\n",
       "      <th>can_gild</th>\n",
       "      <th>spoiler</th>\n",
       "      <th>locked</th>\n",
       "      <th>treatment_tags</th>\n",
       "    </tr>\n",
       "  </thead>\n",
       "  <tbody>\n",
       "    <tr>\n",
       "      <th>0</th>\n",
       "      <td>text</td>\n",
       "      <td>self.AmItheAsshole</td>\n",
       "      <td>False</td>\n",
       "      <td>False</td>\n",
       "      <td>False</td>\n",
       "      <td>True</td>\n",
       "      <td>False</td>\n",
       "      <td>False</td>\n",
       "      <td>[]</td>\n",
       "      <td>[]</td>\n",
       "      <td>False</td>\n",
       "      <td>True</td>\n",
       "      <td>False</td>\n",
       "      <td>False</td>\n",
       "      <td>[]</td>\n",
       "    </tr>\n",
       "    <tr>\n",
       "      <th>1</th>\n",
       "      <td>text</td>\n",
       "      <td>self.AmItheAsshole</td>\n",
       "      <td>False</td>\n",
       "      <td>False</td>\n",
       "      <td>True</td>\n",
       "      <td>True</td>\n",
       "      <td>False</td>\n",
       "      <td>False</td>\n",
       "      <td>[]</td>\n",
       "      <td>[]</td>\n",
       "      <td>False</td>\n",
       "      <td>True</td>\n",
       "      <td>False</td>\n",
       "      <td>False</td>\n",
       "      <td>[]</td>\n",
       "    </tr>\n",
       "    <tr>\n",
       "      <th>2</th>\n",
       "      <td>text</td>\n",
       "      <td>self.AmItheAsshole</td>\n",
       "      <td>False</td>\n",
       "      <td>False</td>\n",
       "      <td>True</td>\n",
       "      <td>True</td>\n",
       "      <td>False</td>\n",
       "      <td>False</td>\n",
       "      <td>[]</td>\n",
       "      <td>[]</td>\n",
       "      <td>False</td>\n",
       "      <td>True</td>\n",
       "      <td>False</td>\n",
       "      <td>False</td>\n",
       "      <td>[]</td>\n",
       "    </tr>\n",
       "    <tr>\n",
       "      <th>3</th>\n",
       "      <td>text</td>\n",
       "      <td>self.AmItheAsshole</td>\n",
       "      <td>False</td>\n",
       "      <td>False</td>\n",
       "      <td>True</td>\n",
       "      <td>True</td>\n",
       "      <td>False</td>\n",
       "      <td>False</td>\n",
       "      <td>[]</td>\n",
       "      <td>[]</td>\n",
       "      <td>False</td>\n",
       "      <td>True</td>\n",
       "      <td>False</td>\n",
       "      <td>False</td>\n",
       "      <td>[]</td>\n",
       "    </tr>\n",
       "    <tr>\n",
       "      <th>4</th>\n",
       "      <td>text</td>\n",
       "      <td>self.AmItheAsshole</td>\n",
       "      <td>False</td>\n",
       "      <td>False</td>\n",
       "      <td>False</td>\n",
       "      <td>True</td>\n",
       "      <td>False</td>\n",
       "      <td>False</td>\n",
       "      <td>[]</td>\n",
       "      <td>[]</td>\n",
       "      <td>False</td>\n",
       "      <td>True</td>\n",
       "      <td>False</td>\n",
       "      <td>False</td>\n",
       "      <td>[]</td>\n",
       "    </tr>\n",
       "  </tbody>\n",
       "</table>\n",
       "</div>"
      ],
      "text/plain": [
       "  author_flair_type              domain  allow_live_comments  archived  \\\n",
       "0              text  self.AmItheAsshole                False     False   \n",
       "1              text  self.AmItheAsshole                False     False   \n",
       "2              text  self.AmItheAsshole                False     False   \n",
       "3              text  self.AmItheAsshole                False     False   \n",
       "4              text  self.AmItheAsshole                False     False   \n",
       "\n",
       "   no_follow  is_crosspostable  pinned  over_18 all_awardings awarders  \\\n",
       "0      False              True   False    False            []       []   \n",
       "1       True              True   False    False            []       []   \n",
       "2       True              True   False    False            []       []   \n",
       "3       True              True   False    False            []       []   \n",
       "4      False              True   False    False            []       []   \n",
       "\n",
       "   media_only  can_gild  spoiler  locked treatment_tags  \n",
       "0       False      True    False   False             []  \n",
       "1       False      True    False   False             []  \n",
       "2       False      True    False   False             []  \n",
       "3       False      True    False   False             []  \n",
       "4       False      True    False   False             []  "
      ]
     },
     "execution_count": 28,
     "metadata": {},
     "output_type": "execute_result"
    }
   ],
   "source": [
    "clean_df.drop(columns = feat_drop).iloc[:,30:45].head()"
   ]
  },
  {
   "cell_type": "code",
   "execution_count": 29,
   "id": "bfabcdc4-278f-4d41-86d7-b061878ebdbb",
   "metadata": {
    "execution": {
     "iopub.execute_input": "2022-12-15T00:40:48.086801Z",
     "iopub.status.busy": "2022-12-15T00:40:48.086416Z",
     "iopub.status.idle": "2022-12-15T00:40:48.110936Z",
     "shell.execute_reply": "2022-12-15T00:40:48.110569Z",
     "shell.execute_reply.started": "2022-12-15T00:40:48.086764Z"
    },
    "tags": []
   },
   "outputs": [
    {
     "data": {
      "text/html": [
       "<div>\n",
       "<style scoped>\n",
       "    .dataframe tbody tr th:only-of-type {\n",
       "        vertical-align: middle;\n",
       "    }\n",
       "\n",
       "    .dataframe tbody tr th {\n",
       "        vertical-align: top;\n",
       "    }\n",
       "\n",
       "    .dataframe thead th {\n",
       "        text-align: right;\n",
       "    }\n",
       "</style>\n",
       "<table border=\"1\" class=\"dataframe\">\n",
       "  <thead>\n",
       "    <tr style=\"text-align: right;\">\n",
       "      <th></th>\n",
       "      <th>subreddit_id</th>\n",
       "      <th>id</th>\n",
       "      <th>is_robot_indexable</th>\n",
       "      <th>author</th>\n",
       "      <th>num_comments</th>\n",
       "      <th>send_replies</th>\n",
       "      <th>whitelist_status</th>\n",
       "      <th>contest_mode</th>\n",
       "      <th>author_patreon_flair</th>\n",
       "      <th>permalink</th>\n",
       "      <th>parent_whitelist_status</th>\n",
       "      <th>stickied</th>\n",
       "      <th>url</th>\n",
       "      <th>subreddit_subscribers</th>\n",
       "      <th>created_utc</th>\n",
       "      <th>num_crossposts</th>\n",
       "      <th>is_video</th>\n",
       "      <th>retrieved_utc</th>\n",
       "      <th>updated_utc</th>\n",
       "      <th>utc_datetime_str</th>\n",
       "    </tr>\n",
       "  </thead>\n",
       "  <tbody>\n",
       "    <tr>\n",
       "      <th>0</th>\n",
       "      <td>t5_2xhvq</td>\n",
       "      <td>zm72sb</td>\n",
       "      <td>True</td>\n",
       "      <td>Euphoric_Ad9171</td>\n",
       "      <td>1</td>\n",
       "      <td>True</td>\n",
       "      <td>all_ads</td>\n",
       "      <td>True</td>\n",
       "      <td>False</td>\n",
       "      <td>/r/AmItheAsshole/comments/zm72sb/aita_for_bein...</td>\n",
       "      <td>all_ads</td>\n",
       "      <td>False</td>\n",
       "      <td>https://www.reddit.com/r/AmItheAsshole/comment...</td>\n",
       "      <td>4893068</td>\n",
       "      <td>1671064095</td>\n",
       "      <td>0</td>\n",
       "      <td>False</td>\n",
       "      <td>1671064112</td>\n",
       "      <td>1671064113</td>\n",
       "      <td>2022-12-15 00:28:15</td>\n",
       "    </tr>\n",
       "    <tr>\n",
       "      <th>1</th>\n",
       "      <td>t5_2xhvq</td>\n",
       "      <td>zm7206</td>\n",
       "      <td>True</td>\n",
       "      <td>JLA_turtles</td>\n",
       "      <td>1</td>\n",
       "      <td>True</td>\n",
       "      <td>all_ads</td>\n",
       "      <td>True</td>\n",
       "      <td>False</td>\n",
       "      <td>/r/AmItheAsshole/comments/zm7206/aita_for_not_...</td>\n",
       "      <td>all_ads</td>\n",
       "      <td>False</td>\n",
       "      <td>https://www.reddit.com/r/AmItheAsshole/comment...</td>\n",
       "      <td>4893066</td>\n",
       "      <td>1671064032</td>\n",
       "      <td>0</td>\n",
       "      <td>False</td>\n",
       "      <td>1671064048</td>\n",
       "      <td>1671064049</td>\n",
       "      <td>2022-12-15 00:27:12</td>\n",
       "    </tr>\n",
       "    <tr>\n",
       "      <th>2</th>\n",
       "      <td>t5_2xhvq</td>\n",
       "      <td>zm71wg</td>\n",
       "      <td>True</td>\n",
       "      <td>throwaway291723</td>\n",
       "      <td>1</td>\n",
       "      <td>True</td>\n",
       "      <td>all_ads</td>\n",
       "      <td>True</td>\n",
       "      <td>False</td>\n",
       "      <td>/r/AmItheAsshole/comments/zm71wg/aita_for_tell...</td>\n",
       "      <td>all_ads</td>\n",
       "      <td>False</td>\n",
       "      <td>https://www.reddit.com/r/AmItheAsshole/comment...</td>\n",
       "      <td>4893065</td>\n",
       "      <td>1671064025</td>\n",
       "      <td>0</td>\n",
       "      <td>False</td>\n",
       "      <td>1671064041</td>\n",
       "      <td>1671064041</td>\n",
       "      <td>2022-12-15 00:27:05</td>\n",
       "    </tr>\n",
       "    <tr>\n",
       "      <th>3</th>\n",
       "      <td>t5_2xhvq</td>\n",
       "      <td>zm715w</td>\n",
       "      <td>True</td>\n",
       "      <td>Zealousideal-Big-358</td>\n",
       "      <td>1</td>\n",
       "      <td>True</td>\n",
       "      <td>all_ads</td>\n",
       "      <td>True</td>\n",
       "      <td>False</td>\n",
       "      <td>/r/AmItheAsshole/comments/zm715w/aita_for_igno...</td>\n",
       "      <td>all_ads</td>\n",
       "      <td>False</td>\n",
       "      <td>https://www.reddit.com/r/AmItheAsshole/comment...</td>\n",
       "      <td>4893060</td>\n",
       "      <td>1671063969</td>\n",
       "      <td>0</td>\n",
       "      <td>False</td>\n",
       "      <td>1671063984</td>\n",
       "      <td>1671063985</td>\n",
       "      <td>2022-12-15 00:26:09</td>\n",
       "    </tr>\n",
       "    <tr>\n",
       "      <th>4</th>\n",
       "      <td>t5_2xhvq</td>\n",
       "      <td>zm708l</td>\n",
       "      <td>True</td>\n",
       "      <td>breezyrenae23</td>\n",
       "      <td>1</td>\n",
       "      <td>True</td>\n",
       "      <td>all_ads</td>\n",
       "      <td>True</td>\n",
       "      <td>False</td>\n",
       "      <td>/r/AmItheAsshole/comments/zm708l/aita_for_send...</td>\n",
       "      <td>all_ads</td>\n",
       "      <td>False</td>\n",
       "      <td>https://www.reddit.com/r/AmItheAsshole/comment...</td>\n",
       "      <td>4893060</td>\n",
       "      <td>1671063907</td>\n",
       "      <td>0</td>\n",
       "      <td>False</td>\n",
       "      <td>1671063919</td>\n",
       "      <td>1671063920</td>\n",
       "      <td>2022-12-15 00:25:07</td>\n",
       "    </tr>\n",
       "  </tbody>\n",
       "</table>\n",
       "</div>"
      ],
      "text/plain": [
       "  subreddit_id      id  is_robot_indexable                author  \\\n",
       "0     t5_2xhvq  zm72sb                True       Euphoric_Ad9171   \n",
       "1     t5_2xhvq  zm7206                True           JLA_turtles   \n",
       "2     t5_2xhvq  zm71wg                True       throwaway291723   \n",
       "3     t5_2xhvq  zm715w                True  Zealousideal-Big-358   \n",
       "4     t5_2xhvq  zm708l                True         breezyrenae23   \n",
       "\n",
       "   num_comments  send_replies whitelist_status  contest_mode  \\\n",
       "0             1          True          all_ads          True   \n",
       "1             1          True          all_ads          True   \n",
       "2             1          True          all_ads          True   \n",
       "3             1          True          all_ads          True   \n",
       "4             1          True          all_ads          True   \n",
       "\n",
       "  author_patreon_flair                                          permalink  \\\n",
       "0                False  /r/AmItheAsshole/comments/zm72sb/aita_for_bein...   \n",
       "1                False  /r/AmItheAsshole/comments/zm7206/aita_for_not_...   \n",
       "2                False  /r/AmItheAsshole/comments/zm71wg/aita_for_tell...   \n",
       "3                False  /r/AmItheAsshole/comments/zm715w/aita_for_igno...   \n",
       "4                False  /r/AmItheAsshole/comments/zm708l/aita_for_send...   \n",
       "\n",
       "  parent_whitelist_status  stickied  \\\n",
       "0                 all_ads     False   \n",
       "1                 all_ads     False   \n",
       "2                 all_ads     False   \n",
       "3                 all_ads     False   \n",
       "4                 all_ads     False   \n",
       "\n",
       "                                                 url  subreddit_subscribers  \\\n",
       "0  https://www.reddit.com/r/AmItheAsshole/comment...                4893068   \n",
       "1  https://www.reddit.com/r/AmItheAsshole/comment...                4893066   \n",
       "2  https://www.reddit.com/r/AmItheAsshole/comment...                4893065   \n",
       "3  https://www.reddit.com/r/AmItheAsshole/comment...                4893060   \n",
       "4  https://www.reddit.com/r/AmItheAsshole/comment...                4893060   \n",
       "\n",
       "   created_utc  num_crossposts  is_video  retrieved_utc  updated_utc  \\\n",
       "0   1671064095               0     False     1671064112   1671064113   \n",
       "1   1671064032               0     False     1671064048   1671064049   \n",
       "2   1671064025               0     False     1671064041   1671064041   \n",
       "3   1671063969               0     False     1671063984   1671063985   \n",
       "4   1671063907               0     False     1671063919   1671063920   \n",
       "\n",
       "      utc_datetime_str  \n",
       "0  2022-12-15 00:28:15  \n",
       "1  2022-12-15 00:27:12  \n",
       "2  2022-12-15 00:27:05  \n",
       "3  2022-12-15 00:26:09  \n",
       "4  2022-12-15 00:25:07  "
      ]
     },
     "execution_count": 29,
     "metadata": {},
     "output_type": "execute_result"
    }
   ],
   "source": [
    "clean_df.drop(columns = feat_drop).iloc[:,45:].head()\n",
    "# maybe created_utc"
   ]
  },
  {
   "cell_type": "code",
   "execution_count": 30,
   "id": "a64c367c-109c-49a3-8af9-a0ac5732b85b",
   "metadata": {
    "execution": {
     "iopub.execute_input": "2022-12-15T00:40:48.496201Z",
     "iopub.status.busy": "2022-12-15T00:40:48.495588Z",
     "iopub.status.idle": "2022-12-15T00:40:48.508749Z",
     "shell.execute_reply": "2022-12-15T00:40:48.508116Z",
     "shell.execute_reply.started": "2022-12-15T00:40:48.496094Z"
    },
    "tags": []
   },
   "outputs": [
    {
     "data": {
      "text/plain": [
       "1      27971\n",
       "2        139\n",
       "0        119\n",
       "3         24\n",
       "4         21\n",
       "       ...  \n",
       "257        1\n",
       "44         1\n",
       "132        1\n",
       "120        1\n",
       "79         1\n",
       "Name: score, Length: 67, dtype: int64"
      ]
     },
     "execution_count": 30,
     "metadata": {},
     "output_type": "execute_result"
    }
   ],
   "source": [
    "# what's score? \n",
    "\n",
    "clean_df['score'].value_counts(ascending = False)\n",
    "\n",
    "# It may be related, let's keep it in."
   ]
  },
  {
   "cell_type": "markdown",
   "id": "01da9aa2-8bba-428e-b231-4f1a16315f04",
   "metadata": {},
   "source": [
    "## Exports"
   ]
  },
  {
   "cell_type": "code",
   "execution_count": 31,
   "id": "f5f6f846-37bb-4ffe-88d3-64136c92e26f",
   "metadata": {
    "execution": {
     "iopub.execute_input": "2022-12-15T00:40:48.994213Z",
     "iopub.status.busy": "2022-12-15T00:40:48.993524Z",
     "iopub.status.idle": "2022-12-15T00:40:49.000955Z",
     "shell.execute_reply": "2022-12-15T00:40:48.999827Z",
     "shell.execute_reply.started": "2022-12-15T00:40:48.994148Z"
    },
    "tags": []
   },
   "outputs": [],
   "source": [
    "feats_to_keep = ['subreddit', 'selftext', 'title', 'author', 'score', 'created_utc']"
   ]
  },
  {
   "cell_type": "code",
   "execution_count": 32,
   "id": "c825e9f0-e846-464f-823f-29a55876e7aa",
   "metadata": {
    "execution": {
     "iopub.execute_input": "2022-12-15T00:40:49.494061Z",
     "iopub.status.busy": "2022-12-15T00:40:49.493394Z",
     "iopub.status.idle": "2022-12-15T00:40:49.506631Z",
     "shell.execute_reply": "2022-12-15T00:40:49.505785Z",
     "shell.execute_reply.started": "2022-12-15T00:40:49.493986Z"
    },
    "tags": []
   },
   "outputs": [],
   "source": [
    "selective_df = clean_df[feats_to_keep]"
   ]
  },
  {
   "cell_type": "code",
   "execution_count": 33,
   "id": "eba59139-c88a-4b80-97b4-1c9f74f93675",
   "metadata": {
    "execution": {
     "iopub.execute_input": "2022-12-15T00:40:50.047681Z",
     "iopub.status.busy": "2022-12-15T00:40:50.047332Z",
     "iopub.status.idle": "2022-12-15T00:40:50.066286Z",
     "shell.execute_reply": "2022-12-15T00:40:50.065580Z",
     "shell.execute_reply.started": "2022-12-15T00:40:50.047651Z"
    },
    "tags": []
   },
   "outputs": [
    {
     "data": {
      "text/html": [
       "<div>\n",
       "<style scoped>\n",
       "    .dataframe tbody tr th:only-of-type {\n",
       "        vertical-align: middle;\n",
       "    }\n",
       "\n",
       "    .dataframe tbody tr th {\n",
       "        vertical-align: top;\n",
       "    }\n",
       "\n",
       "    .dataframe thead th {\n",
       "        text-align: right;\n",
       "    }\n",
       "</style>\n",
       "<table border=\"1\" class=\"dataframe\">\n",
       "  <thead>\n",
       "    <tr style=\"text-align: right;\">\n",
       "      <th></th>\n",
       "      <th>subreddit</th>\n",
       "      <th>selftext</th>\n",
       "      <th>title</th>\n",
       "      <th>author</th>\n",
       "      <th>score</th>\n",
       "      <th>created_utc</th>\n",
       "    </tr>\n",
       "  </thead>\n",
       "  <tbody>\n",
       "    <tr>\n",
       "      <th>0</th>\n",
       "      <td>AmItheAsshole</td>\n",
       "      <td>TA  Long story short my mom lend my ski Jacket...</td>\n",
       "      <td>for being upset bc my mom lend my ski gear wi...</td>\n",
       "      <td>Euphoric_Ad9171</td>\n",
       "      <td>1</td>\n",
       "      <td>1671064095</td>\n",
       "    </tr>\n",
       "    <tr>\n",
       "      <th>1</th>\n",
       "      <td>AmItheAsshole</td>\n",
       "      <td>Rachel Katy and I were part of a big friend gr...</td>\n",
       "      <td>for not inviting my friend to a concert she c...</td>\n",
       "      <td>JLA_turtles</td>\n",
       "      <td>1</td>\n",
       "      <td>1671064032</td>\n",
       "    </tr>\n",
       "    <tr>\n",
       "      <th>2</th>\n",
       "      <td>AmItheAsshole</td>\n",
       "      <td>So me 17 and my mom 36 are in a fight and I ne...</td>\n",
       "      <td>for telling my mom I wont talk to her again i...</td>\n",
       "      <td>throwaway291723</td>\n",
       "      <td>1</td>\n",
       "      <td>1671064025</td>\n",
       "    </tr>\n",
       "    <tr>\n",
       "      <th>3</th>\n",
       "      <td>AmItheAsshole</td>\n",
       "      <td>I  21f  got a new roomate Mary  23f this year ...</td>\n",
       "      <td>for ignoring my roommate</td>\n",
       "      <td>Zealousideal-Big-358</td>\n",
       "      <td>1</td>\n",
       "      <td>1671063969</td>\n",
       "    </tr>\n",
       "    <tr>\n",
       "      <th>4</th>\n",
       "      <td>AmItheAsshole</td>\n",
       "      <td>a couple months ago me  18 F  and my ex boyfri...</td>\n",
       "      <td>for sending nudes to my ex boyfriends best fr...</td>\n",
       "      <td>breezyrenae23</td>\n",
       "      <td>1</td>\n",
       "      <td>1671063907</td>\n",
       "    </tr>\n",
       "  </tbody>\n",
       "</table>\n",
       "</div>"
      ],
      "text/plain": [
       "       subreddit                                           selftext  \\\n",
       "0  AmItheAsshole  TA  Long story short my mom lend my ski Jacket...   \n",
       "1  AmItheAsshole  Rachel Katy and I were part of a big friend gr...   \n",
       "2  AmItheAsshole  So me 17 and my mom 36 are in a fight and I ne...   \n",
       "3  AmItheAsshole  I  21f  got a new roomate Mary  23f this year ...   \n",
       "4  AmItheAsshole  a couple months ago me  18 F  and my ex boyfri...   \n",
       "\n",
       "                                               title                author  \\\n",
       "0   for being upset bc my mom lend my ski gear wi...       Euphoric_Ad9171   \n",
       "1   for not inviting my friend to a concert she c...           JLA_turtles   \n",
       "2   for telling my mom I wont talk to her again i...       throwaway291723   \n",
       "3                           for ignoring my roommate  Zealousideal-Big-358   \n",
       "4   for sending nudes to my ex boyfriends best fr...         breezyrenae23   \n",
       "\n",
       "   score  created_utc  \n",
       "0      1   1671064095  \n",
       "1      1   1671064032  \n",
       "2      1   1671064025  \n",
       "3      1   1671063969  \n",
       "4      1   1671063907  "
      ]
     },
     "execution_count": 33,
     "metadata": {},
     "output_type": "execute_result"
    }
   ],
   "source": [
    "selective_df.head()"
   ]
  },
  {
   "cell_type": "code",
   "execution_count": 34,
   "id": "4ff3ed2f-d505-4e9a-a773-b366f4764a5a",
   "metadata": {
    "execution": {
     "iopub.execute_input": "2022-12-15T00:40:50.752116Z",
     "iopub.status.busy": "2022-12-15T00:40:50.751194Z",
     "iopub.status.idle": "2022-12-15T00:40:51.349179Z",
     "shell.execute_reply": "2022-12-15T00:40:51.348846Z",
     "shell.execute_reply.started": "2022-12-15T00:40:50.752038Z"
    },
    "tags": []
   },
   "outputs": [],
   "source": [
    "selective_df.to_csv(\"./data/cleaned_selective_data.csv\", index = False)"
   ]
  },
  {
   "cell_type": "code",
   "execution_count": 35,
   "id": "39eaad76-1d03-4b58-affd-2541e1220761",
   "metadata": {
    "execution": {
     "iopub.execute_input": "2022-12-15T00:40:52.542802Z",
     "iopub.status.busy": "2022-12-15T00:40:52.541910Z",
     "iopub.status.idle": "2022-12-15T00:40:53.608428Z",
     "shell.execute_reply": "2022-12-15T00:40:53.607966Z",
     "shell.execute_reply.started": "2022-12-15T00:40:52.542746Z"
    },
    "tags": []
   },
   "outputs": [],
   "source": [
    "clean_df.to_csv(\"./data/cleaned_data.csv\", index = False)"
   ]
  },
  {
   "cell_type": "code",
   "execution_count": null,
   "id": "d470276e-e54c-41d1-87b8-8f657cb1fa57",
   "metadata": {},
   "outputs": [],
   "source": []
  }
 ],
 "metadata": {
  "kernelspec": {
   "display_name": "Python 3 (ipykernel)",
   "language": "python",
   "name": "python3"
  },
  "language_info": {
   "codemirror_mode": {
    "name": "ipython",
    "version": 3
   },
   "file_extension": ".py",
   "mimetype": "text/x-python",
   "name": "python",
   "nbconvert_exporter": "python",
   "pygments_lexer": "ipython3",
   "version": "3.9.12"
  }
 },
 "nbformat": 4,
 "nbformat_minor": 5
}
